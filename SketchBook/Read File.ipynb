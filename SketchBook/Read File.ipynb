{
 "cells": [
  {
   "cell_type": "code",
   "execution_count": null,
   "metadata": {
    "collapsed": true
   },
   "outputs": [],
   "source": [
    "# working with flat file - TXT"
   ]
  },
  {
   "cell_type": "code",
   "execution_count": 11,
   "metadata": {},
   "outputs": [
    {
     "name": "stdout",
     "output_type": "stream",
     "text": [
      "Maggie,3\n",
      "Herman,7\n",
      "Betsy,9\n",
      "Oreo,6\n",
      "Moo Moo,3\n",
      "Milkshake,2\n",
      "Millie,5\n",
      "Lola,2\n",
      "\n",
      "Florence,2\n",
      "Henrietta,9\n",
      "False\n"
     ]
    }
   ],
   "source": [
    "# Open a file: file\n",
    "file = open('cow_data.txt', mode='r')\n",
    "\n",
    "# Print it\n",
    "print(file.read())\n",
    "\n",
    "# Check whether file is closed\n",
    "print(file.closed)"
   ]
  },
  {
   "cell_type": "code",
   "execution_count": 12,
   "metadata": {},
   "outputs": [
    {
     "name": "stdout",
     "output_type": "stream",
     "text": [
      "Maggie,3\n",
      "\n",
      "Herman,7\n",
      "\n",
      "Betsy,9\n",
      "\n"
     ]
    }
   ],
   "source": [
    "# Read & print the first 3 lines\n",
    "with open('cow_data.txt') as file:\n",
    "    print(file.readline())\n",
    "    print(file.readline())\n",
    "    print(file.readline())"
   ]
  },
  {
   "cell_type": "code",
   "execution_count": 15,
   "metadata": {},
   "outputs": [
    {
     "name": "stdout",
     "output_type": "stream",
     "text": [
      "[[\"b'Maggie'\" \"b'3'\"]\n",
      " [\"b'Herman'\" \"b'7'\"]\n",
      " [\"b'Betsy'\" \"b'9'\"]\n",
      " [\"b'Oreo'\" \"b'6'\"]\n",
      " [\"b'Moo Moo'\" \"b'3'\"]\n",
      " [\"b'Milkshake'\" \"b'2'\"]\n",
      " [\"b'Millie'\" \"b'5'\"]\n",
      " [\"b'Lola'\" \"b'2'\"]\n",
      " [\"b'Florence'\" \"b'2'\"]\n",
      " [\"b'Henrietta'\" \"b'9'\"]]\n"
     ]
    }
   ],
   "source": [
    "# Import numpy\n",
    "import numpy as np\n",
    "file='cow_data.txt'\n",
    "# delimiter='\\t' for tab and ',' for comma\n",
    "# usecols: which columns should be read; for example import the first and third columns usecols=[0,2]\n",
    "data = np.loadtxt(file, delimiter=',', dtype=str)\n",
    "print(data)"
   ]
  },
  {
   "cell_type": "code",
   "execution_count": null,
   "metadata": {
    "collapsed": true
   },
   "outputs": [],
   "source": []
  },
  {
   "cell_type": "code",
   "execution_count": null,
   "metadata": {
    "collapsed": true
   },
   "outputs": [],
   "source": []
  }
 ],
 "metadata": {
  "kernelspec": {
   "display_name": "Python 3",
   "language": "python",
   "name": "python3"
  },
  "language_info": {
   "codemirror_mode": {
    "name": "ipython",
    "version": 3
   },
   "file_extension": ".py",
   "mimetype": "text/x-python",
   "name": "python",
   "nbconvert_exporter": "python",
   "pygments_lexer": "ipython3",
   "version": "3.6.1"
  }
 },
 "nbformat": 4,
 "nbformat_minor": 2
}
