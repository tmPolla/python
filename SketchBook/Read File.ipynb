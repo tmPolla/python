{
 "cells": [
  {
   "cell_type": "code",
   "execution_count": null,
   "metadata": {
    "collapsed": true
   },
   "outputs": [],
   "source": [
    "# working with flat file - TXT"
   ]
  },
  {
   "cell_type": "code",
   "execution_count": 11,
   "metadata": {},
   "outputs": [
    {
     "name": "stdout",
     "output_type": "stream",
     "text": [
      "Maggie,3\n",
      "Herman,7\n",
      "Betsy,9\n",
      "Oreo,6\n",
      "Moo Moo,3\n",
      "Milkshake,2\n",
      "Millie,5\n",
      "Lola,2\n",
      "\n",
      "Florence,2\n",
      "Henrietta,9\n",
      "False\n"
     ]
    }
   ],
   "source": [
    "# Open a file: file\n",
    "file = open('cow_data.txt', mode='r')\n",
    "\n",
    "# Print it\n",
    "print(file.read())\n",
    "\n",
    "# Check whether file is closed\n",
    "print(file.closed)"
   ]
  },
  {
   "cell_type": "code",
   "execution_count": 12,
   "metadata": {},
   "outputs": [
    {
     "name": "stdout",
     "output_type": "stream",
     "text": [
      "Maggie,3\n",
      "\n",
      "Herman,7\n",
      "\n",
      "Betsy,9\n",
      "\n"
     ]
    }
   ],
   "source": [
    "# Read & print the first 3 lines\n",
    "with open('cow_data.txt') as file:\n",
    "    print(file.readline())\n",
    "    print(file.readline())\n",
    "    print(file.readline())"
   ]
  },
  {
   "cell_type": "code",
   "execution_count": 15,
   "metadata": {},
   "outputs": [
    {
     "name": "stdout",
     "output_type": "stream",
     "text": [
      "[[\"b'Maggie'\" \"b'3'\"]\n",
      " [\"b'Herman'\" \"b'7'\"]\n",
      " [\"b'Betsy'\" \"b'9'\"]\n",
      " [\"b'Oreo'\" \"b'6'\"]\n",
      " [\"b'Moo Moo'\" \"b'3'\"]\n",
      " [\"b'Milkshake'\" \"b'2'\"]\n",
      " [\"b'Millie'\" \"b'5'\"]\n",
      " [\"b'Lola'\" \"b'2'\"]\n",
      " [\"b'Florence'\" \"b'2'\"]\n",
      " [\"b'Henrietta'\" \"b'9'\"]]\n"
     ]
    }
   ],
   "source": [
    "# Import numpy\n",
    "import numpy as np\n",
    "file='cow_data.txt'\n",
    "# delimiter='\\t' for tab and ',' for comma\n",
    "# usecols: which columns should be read; for example import the first and third columns usecols=[0,2]\n",
    "data = np.loadtxt(file, delimiter=',', dtype=str)\n",
    "print(data)"
   ]
  },
  {
   "cell_type": "code",
   "execution_count": null,
   "metadata": {
    "collapsed": true
   },
   "outputs": [],
   "source": [
    "# Import CSV File"
   ]
  },
  {
   "cell_type": "code",
   "execution_count": 1,
   "metadata": {
    "collapsed": true
   },
   "outputs": [],
   "source": [
    "import pandas as pd\n",
    "file='gapminder.csv'"
   ]
  },
  {
   "cell_type": "code",
   "execution_count": 19,
   "metadata": {},
   "outputs": [
    {
     "name": "stdout",
     "output_type": "stream",
     "text": [
      "  Unnamed: 0      country    year  population      cont  life_exp  \\\n",
      "0         11  Afghanistan  2007.0  31889923.0      Asia    43.828   \n",
      "1         23      Albania  2007.0   3600523.0    Europe    76.423   \n",
      "2         35      Algeria  2007.0  33333216.0    Africa    72.301   \n",
      "3         47       Angola  2007.0  12420476.0    Africa    42.731   \n",
      "4         59    Argentina  2007.0  40301927.0  Americas    75.320   \n",
      "\n",
      "        gdp_cap  \n",
      "0    974.580338  \n",
      "1   5937.029526  \n",
      "2   6223.367465  \n",
      "3   4797.231267  \n",
      "4  12779.379640  \n"
     ]
    }
   ],
   "source": [
    "# read the CSV file with pandas\n",
    "data=pd.read_csv(file)\n",
    "print(data.head())"
   ]
  },
  {
   "cell_type": "code",
   "execution_count": 20,
   "metadata": {},
   "outputs": [
    {
     "name": "stdout",
     "output_type": "stream",
     "text": [
      "      0            1     2           3     4         5            6\n",
      "0   NaN      country  year  population  cont  life_exp      gdp_cap\n",
      "1  11.0  Afghanistan  2007  31889923.0  Asia    43.828  974.5803384\n"
     ]
    }
   ],
   "source": [
    "# scip 2 rows and set the header to None - when there is no header in the file\n",
    "data=pd.read_csv(file, nrows=2, header=None)\n",
    "print(data.head())"
   ]
  },
  {
   "cell_type": "code",
   "execution_count": 21,
   "metadata": {},
   "outputs": [
    {
     "name": "stdout",
     "output_type": "stream",
     "text": [
      "[[nan 'country' 'year' 'population' 'cont' 'life_exp' 'gdp_cap']\n",
      " [11.0 'Afghanistan' '2007' '31889923.0' 'Asia' '43.828' '974.5803384']]\n"
     ]
    }
   ],
   "source": [
    "# Build a numpy array from the DataFrame: data_array\n",
    "data_array=data.values\n",
    "print(data_array)"
   ]
  },
  {
   "cell_type": "code",
   "execution_count": null,
   "metadata": {
    "collapsed": true
   },
   "outputs": [],
   "source": [
    "# Import Excel File"
   ]
  },
  {
   "cell_type": "code",
   "execution_count": 4,
   "metadata": {},
   "outputs": [],
   "source": [
    "xlsFile='ExcelToLoad.xlsx'"
   ]
  },
  {
   "cell_type": "code",
   "execution_count": 20,
   "metadata": {},
   "outputs": [
    {
     "name": "stdout",
     "output_type": "stream",
     "text": [
      "['s1', 's2', 'data', 'data final']\n"
     ]
    }
   ],
   "source": [
    "xl = pd.ExcelFile(xlsFile)\n",
    "print(xl.sheet_names)"
   ]
  },
  {
   "cell_type": "code",
   "execution_count": 21,
   "metadata": {},
   "outputs": [
    {
     "name": "stdout",
     "output_type": "stream",
     "text": [
      "   ID  Year       car\n",
      "0   1  2001     Mazda\n",
      "1   2  2002    Suzuki\n",
      "2   3  2003  Mercedes\n",
      "3   4  2004      Audi\n"
     ]
    }
   ],
   "source": [
    "# parse with the sheet name\n",
    "df1 = xl.parse('s1')\n",
    "print(df1)"
   ]
  },
  {
   "cell_type": "code",
   "execution_count": 22,
   "metadata": {},
   "outputs": [
    {
     "name": "stdout",
     "output_type": "stream",
     "text": [
      "   ID  Year       car\n",
      "0   1  2001     Mazda\n",
      "1   2  2002    Suzuki\n",
      "2   3  2003  Mercedes\n",
      "3   4  2004      Audi\n"
     ]
    }
   ],
   "source": [
    "# parse with the index of the sheet. The first sheet is the 0\n",
    "df2 = xl.parse(0)\n",
    "print(df2)"
   ]
  },
  {
   "cell_type": "code",
   "execution_count": 23,
   "metadata": {},
   "outputs": [
    {
     "name": "stdout",
     "output_type": "stream",
     "text": [
      "   1  2001     Mazda\n",
      "0  2  2002    Suzuki\n",
      "1  3  2003  Mercedes\n",
      "2  4  2004      Audi\n"
     ]
    }
   ],
   "source": [
    "# skip the first row\n",
    "df = xl.parse(0, skiprows=[0])\n",
    "print(df)"
   ]
  },
  {
   "cell_type": "code",
   "execution_count": 24,
   "metadata": {},
   "outputs": [
    {
     "name": "stdout",
     "output_type": "stream",
     "text": [
      "   Sold year\n",
      "0       2001\n",
      "1       2002\n",
      "2       2003\n",
      "3       2004\n"
     ]
    }
   ],
   "source": [
    "# read only the second column and re-name Year to Sold year\n",
    "df = xl.parse(1, parse_cols=[1], names=['Sold year'])\n",
    "print(df)"
   ]
  },
  {
   "cell_type": "code",
   "execution_count": 25,
   "metadata": {},
   "outputs": [
    {
     "name": "stdout",
     "output_type": "stream",
     "text": [
      "   Car ID  Sold Year  Car Name\n",
      "0       2       2002    Suzuki\n",
      "1       3       2003  Mercedes\n",
      "2       4       2004      Audi\n"
     ]
    }
   ],
   "source": [
    "df = xl.parse(0, skiprows=[0], names=['Car ID','Sold Year','Car Name'])\n",
    "print(df)"
   ]
  },
  {
   "cell_type": "code",
   "execution_count": null,
   "metadata": {
    "collapsed": true
   },
   "outputs": [],
   "source": []
  }
 ],
 "metadata": {
  "kernelspec": {
   "display_name": "Python 3",
   "language": "python",
   "name": "python3"
  },
  "language_info": {
   "codemirror_mode": {
    "name": "ipython",
    "version": 3
   },
   "file_extension": ".py",
   "mimetype": "text/x-python",
   "name": "python",
   "nbconvert_exporter": "python",
   "pygments_lexer": "ipython3",
   "version": "3.6.1"
  }
 },
 "nbformat": 4,
 "nbformat_minor": 2
}
