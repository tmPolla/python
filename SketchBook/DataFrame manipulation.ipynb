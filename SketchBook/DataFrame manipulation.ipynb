{
 "cells": [
  {
   "cell_type": "code",
   "execution_count": 1,
   "metadata": {},
   "outputs": [
    {
     "data": {
      "text/html": [
       "<div>\n",
       "<style>\n",
       "    .dataframe thead tr:only-child th {\n",
       "        text-align: right;\n",
       "    }\n",
       "\n",
       "    .dataframe thead th {\n",
       "        text-align: left;\n",
       "    }\n",
       "\n",
       "    .dataframe tbody tr th {\n",
       "        vertical-align: top;\n",
       "    }\n",
       "</style>\n",
       "<table border=\"1\" class=\"dataframe\">\n",
       "  <thead>\n",
       "    <tr style=\"text-align: right;\">\n",
       "      <th></th>\n",
       "      <th>name</th>\n",
       "      <th>sex</th>\n",
       "      <th>births</th>\n",
       "      <th>year</th>\n",
       "    </tr>\n",
       "  </thead>\n",
       "  <tbody>\n",
       "    <tr>\n",
       "      <th>0</th>\n",
       "      <td>Mary</td>\n",
       "      <td>F</td>\n",
       "      <td>7065</td>\n",
       "      <td>1880</td>\n",
       "    </tr>\n",
       "    <tr>\n",
       "      <th>1</th>\n",
       "      <td>Anna</td>\n",
       "      <td>F</td>\n",
       "      <td>2604</td>\n",
       "      <td>1880</td>\n",
       "    </tr>\n",
       "    <tr>\n",
       "      <th>2</th>\n",
       "      <td>Emma</td>\n",
       "      <td>F</td>\n",
       "      <td>2003</td>\n",
       "      <td>1880</td>\n",
       "    </tr>\n",
       "    <tr>\n",
       "      <th>3</th>\n",
       "      <td>Elizabeth</td>\n",
       "      <td>F</td>\n",
       "      <td>1939</td>\n",
       "      <td>1880</td>\n",
       "    </tr>\n",
       "    <tr>\n",
       "      <th>4</th>\n",
       "      <td>Minnie</td>\n",
       "      <td>F</td>\n",
       "      <td>1746</td>\n",
       "      <td>1880</td>\n",
       "    </tr>\n",
       "  </tbody>\n",
       "</table>\n",
       "</div>"
      ],
      "text/plain": [
       "        name sex  births  year\n",
       "0       Mary   F    7065  1880\n",
       "1       Anna   F    2604  1880\n",
       "2       Emma   F    2003  1880\n",
       "3  Elizabeth   F    1939  1880\n",
       "4     Minnie   F    1746  1880"
      ]
     },
     "execution_count": 1,
     "metadata": {},
     "output_type": "execute_result"
    }
   ],
   "source": [
    "# Import modules\n",
    "import pandas as pd\n",
    "import numpy as np\n",
    "\n",
    "# Read names into a dataframe: bnames\n",
    "bnames=pd.read_csv('names.csv')\n",
    "bnames.head()"
   ]
  },
  {
   "cell_type": "code",
   "execution_count": 3,
   "metadata": {},
   "outputs": [
    {
     "data": {
      "text/plain": [
       "(1891894, 4)"
      ]
     },
     "execution_count": 3,
     "metadata": {},
     "output_type": "execute_result"
    }
   ],
   "source": [
    "bnames.shape"
   ]
  },
  {
   "cell_type": "code",
   "execution_count": 2,
   "metadata": {},
   "outputs": [
    {
     "name": "stdout",
     "output_type": "stream",
     "text": [
      "<class 'pandas.core.frame.DataFrame'>\n",
      "RangeIndex: 1891894 entries, 0 to 1891893\n",
      "Data columns (total 4 columns):\n",
      "name      object\n",
      "sex       object\n",
      "births    int64\n",
      "year      int64\n",
      "dtypes: int64(2), object(2)\n",
      "memory usage: 57.7+ MB\n"
     ]
    }
   ],
   "source": [
    "bnames.info()"
   ]
  },
  {
   "cell_type": "code",
   "execution_count": 5,
   "metadata": {},
   "outputs": [
    {
     "data": {
      "text/plain": [
       "Index(['name', 'sex', 'births', 'year'], dtype='object')"
      ]
     },
     "execution_count": 5,
     "metadata": {},
     "output_type": "execute_result"
    }
   ],
   "source": [
    "bnames.columns"
   ]
  },
  {
   "cell_type": "code",
   "execution_count": 6,
   "metadata": {},
   "outputs": [
    {
     "data": {
      "text/plain": [
       "Lee        274\n",
       "Sidney     274\n",
       "William    274\n",
       "Ollie      274\n",
       "Francis    274\n",
       "Name: name, dtype: int64"
      ]
     },
     "execution_count": 6,
     "metadata": {},
     "output_type": "execute_result"
    }
   ],
   "source": [
    "bnames.name.value_counts(dropna=False).head()\n"
   ]
  },
  {
   "cell_type": "code",
   "execution_count": 7,
   "metadata": {},
   "outputs": [
    {
     "data": {
      "text/plain": [
       "Lee        274\n",
       "Sidney     274\n",
       "William    274\n",
       "Ollie      274\n",
       "Francis    274\n",
       "Name: name, dtype: int64"
      ]
     },
     "execution_count": 7,
     "metadata": {},
     "output_type": "execute_result"
    }
   ],
   "source": [
    "bnames['name'].value_counts(dropna=False).head()"
   ]
  },
  {
   "cell_type": "code",
   "execution_count": 8,
   "metadata": {},
   "outputs": [
    {
     "data": {
      "text/html": [
       "<div>\n",
       "<style>\n",
       "    .dataframe thead tr:only-child th {\n",
       "        text-align: right;\n",
       "    }\n",
       "\n",
       "    .dataframe thead th {\n",
       "        text-align: left;\n",
       "    }\n",
       "\n",
       "    .dataframe tbody tr th {\n",
       "        vertical-align: top;\n",
       "    }\n",
       "</style>\n",
       "<table border=\"1\" class=\"dataframe\">\n",
       "  <thead>\n",
       "    <tr style=\"text-align: right;\">\n",
       "      <th></th>\n",
       "      <th>births</th>\n",
       "      <th>year</th>\n",
       "    </tr>\n",
       "  </thead>\n",
       "  <tbody>\n",
       "    <tr>\n",
       "      <th>count</th>\n",
       "      <td>1.891894e+06</td>\n",
       "      <td>1.891894e+06</td>\n",
       "    </tr>\n",
       "    <tr>\n",
       "      <th>mean</th>\n",
       "      <td>1.821106e+02</td>\n",
       "      <td>1.974122e+03</td>\n",
       "    </tr>\n",
       "    <tr>\n",
       "      <th>std</th>\n",
       "      <td>1.544197e+03</td>\n",
       "      <td>3.386497e+01</td>\n",
       "    </tr>\n",
       "    <tr>\n",
       "      <th>min</th>\n",
       "      <td>5.000000e+00</td>\n",
       "      <td>1.880000e+03</td>\n",
       "    </tr>\n",
       "    <tr>\n",
       "      <th>25%</th>\n",
       "      <td>7.000000e+00</td>\n",
       "      <td>1.951000e+03</td>\n",
       "    </tr>\n",
       "    <tr>\n",
       "      <th>50%</th>\n",
       "      <td>1.200000e+01</td>\n",
       "      <td>1.984000e+03</td>\n",
       "    </tr>\n",
       "    <tr>\n",
       "      <th>75%</th>\n",
       "      <td>3.200000e+01</td>\n",
       "      <td>2.002000e+03</td>\n",
       "    </tr>\n",
       "    <tr>\n",
       "      <th>max</th>\n",
       "      <td>9.968500e+04</td>\n",
       "      <td>2.016000e+03</td>\n",
       "    </tr>\n",
       "  </tbody>\n",
       "</table>\n",
       "</div>"
      ],
      "text/plain": [
       "             births          year\n",
       "count  1.891894e+06  1.891894e+06\n",
       "mean   1.821106e+02  1.974122e+03\n",
       "std    1.544197e+03  3.386497e+01\n",
       "min    5.000000e+00  1.880000e+03\n",
       "25%    7.000000e+00  1.951000e+03\n",
       "50%    1.200000e+01  1.984000e+03\n",
       "75%    3.200000e+01  2.002000e+03\n",
       "max    9.968500e+04  2.016000e+03"
      ]
     },
     "execution_count": 8,
     "metadata": {},
     "output_type": "execute_result"
    }
   ],
   "source": [
    "bnames.describe()"
   ]
  },
  {
   "cell_type": "code",
   "execution_count": 9,
   "metadata": {},
   "outputs": [
    {
     "data": {
      "text/plain": [
       "count    1.891894e+06\n",
       "mean     1.821106e+02\n",
       "std      1.544197e+03\n",
       "min      5.000000e+00\n",
       "25%      7.000000e+00\n",
       "50%      1.200000e+01\n",
       "75%      3.200000e+01\n",
       "max      9.968500e+04\n",
       "Name: births, dtype: float64"
      ]
     },
     "execution_count": 9,
     "metadata": {},
     "output_type": "execute_result"
    }
   ],
   "source": [
    "bnames['births'].describe()"
   ]
  },
  {
   "cell_type": "code",
   "execution_count": 52,
   "metadata": {},
   "outputs": [
    {
     "name": "stdout",
     "output_type": "stream",
     "text": [
      "          sex  births  year Char\n",
      "name                            \n",
      "Mary        F    7065  1880    M\n",
      "Anna        F    2604  1880    A\n",
      "Emma        F    2003  1880    E\n",
      "Elizabeth   F    1939  1880    E\n",
      "Minnie      F    1746  1880    M\n"
     ]
    }
   ],
   "source": [
    "top5=bnames.head(5).copy()\n",
    "top5['Char']=top5['name'].astype(str).str[0]\n",
    "top5=top5.set_index('name')\n",
    "print(top5)"
   ]
  },
  {
   "cell_type": "code",
   "execution_count": 53,
   "metadata": {},
   "outputs": [
    {
     "name": "stdout",
     "output_type": "stream",
     "text": [
      "          sex  births  year Char\n",
      "name                            \n",
      "Mary        F    7065  1880    M\n",
      "Anna        F    2604  1880    A\n",
      "Emma        F    2003  1880    E\n",
      "Elizabeth   F    1939  1880    E\n",
      "Minnie      F    1746  1880    M\n"
     ]
    }
   ],
   "source": [
    "top5=bnames.head(5).copy()\n",
    "top5['Char']=top5.name.str[0]\n",
    "top5=top5.set_index('name')\n",
    "print(top5)"
   ]
  },
  {
   "cell_type": "code",
   "execution_count": 11,
   "metadata": {
    "collapsed": true
   },
   "outputs": [],
   "source": [
    "# Selecting value from the DataFrame"
   ]
  },
  {
   "cell_type": "code",
   "execution_count": 12,
   "metadata": {},
   "outputs": [
    {
     "name": "stdout",
     "output_type": "stream",
     "text": [
      "          sex  births  year Char\n",
      "name                            \n",
      "Mary        F    7065  1880    M\n",
      "Anna        F    2604  1880    A\n",
      "Emma        F    2003  1880    E\n",
      "Elizabeth   F    1939  1880    E\n",
      "Minnie      F    1746  1880    M\n"
     ]
    }
   ],
   "source": [
    "print(top5.loc[:])"
   ]
  },
  {
   "cell_type": "code",
   "execution_count": 13,
   "metadata": {},
   "outputs": [
    {
     "name": "stdout",
     "output_type": "stream",
     "text": [
      "       sex  births  year Char\n",
      "name                         \n",
      "Mary     F    7065  1880    M\n",
      "Emma     F    2003  1880    E\n",
      "Minnie   F    1746  1880    M\n"
     ]
    }
   ],
   "source": [
    "df=top5.loc[::2]\n",
    "print(df)"
   ]
  },
  {
   "cell_type": "code",
   "execution_count": 14,
   "metadata": {},
   "outputs": [
    {
     "name": "stdout",
     "output_type": "stream",
     "text": [
      "          sex  births  year Char\n",
      "name                            \n",
      "Minnie      F    1746  1880    M\n",
      "Elizabeth   F    1939  1880    E\n",
      "Emma        F    2003  1880    E\n",
      "Anna        F    2604  1880    A\n",
      "Mary        F    7065  1880    M\n"
     ]
    }
   ],
   "source": [
    "df=top5.loc[::-1]\n",
    "print(df)"
   ]
  },
  {
   "cell_type": "code",
   "execution_count": 15,
   "metadata": {},
   "outputs": [
    {
     "name": "stdout",
     "output_type": "stream",
     "text": [
      "          sex  births  year Char\n",
      "name                            \n",
      "Minnie      F    1746  1880    M\n",
      "Elizabeth   F    1939  1880    E\n",
      "Emma        F    2003  1880    E\n",
      "Anna        F    2604  1880    A\n",
      "Mary        F    7065  1880    M\n"
     ]
    }
   ],
   "source": [
    "df=top5.loc[::-1]\n",
    "print(df)"
   ]
  },
  {
   "cell_type": "code",
   "execution_count": 16,
   "metadata": {},
   "outputs": [
    {
     "name": "stdout",
     "output_type": "stream",
     "text": [
      "sex          F\n",
      "births    1746\n",
      "year      1880\n",
      "Char         M\n",
      "Name: Minnie, dtype: object\n"
     ]
    }
   ],
   "source": [
    "df=top5.loc['Minnie']\n",
    "print(df)"
   ]
  },
  {
   "cell_type": "code",
   "execution_count": 17,
   "metadata": {},
   "outputs": [
    {
     "name": "stdout",
     "output_type": "stream",
     "text": [
      "     sex  births  year Char\n",
      "name                       \n",
      "Mary   F    7065  1880    M\n",
      "Anna   F    2604  1880    A\n"
     ]
    }
   ],
   "source": [
    "df=top5.loc['Mary':'Anna']\n",
    "print(df)"
   ]
  },
  {
   "cell_type": "code",
   "execution_count": 18,
   "metadata": {},
   "outputs": [
    {
     "name": "stdout",
     "output_type": "stream",
     "text": [
      "births    7065\n",
      "year      1880\n",
      "Name: Mary, dtype: object\n"
     ]
    }
   ],
   "source": [
    "df=top5.loc['Mary', 'births':'year']\n",
    "print(df)"
   ]
  },
  {
   "cell_type": "code",
   "execution_count": 19,
   "metadata": {
    "collapsed": true
   },
   "outputs": [],
   "source": [
    "# Querying the DataFrame"
   ]
  },
  {
   "cell_type": "code",
   "execution_count": 20,
   "metadata": {},
   "outputs": [
    {
     "name": "stdout",
     "output_type": "stream",
     "text": [
      "           name sex  births  year\n",
      "214    Isabella   F      50  1880\n",
      "2217   Isabella   F      50  1881\n",
      "4197   Isabella   F      44  1882\n",
      "6306   Isabella   F      54  1883\n",
      "8361   Isabella   F      76  1884\n",
      "10733  Isabella   F      48  1885\n",
      "12965  Isabella   F      80  1886\n",
      "15408  Isabella   F      58  1887\n",
      "17800  Isabella   F      63  1888\n",
      "20415  Isabella   F      80  1889\n",
      "23005  Isabella   F      91  1890\n",
      "25716  Isabella   F      79  1891\n",
      "28382  Isabella   F      88  1892\n",
      "31270  Isabella   F     109  1893\n",
      "34137  Isabella   F      92  1894\n",
      "37096  Isabella   F      90  1895\n",
      "40150  Isabella   F      88  1896\n",
      "43244  Isabella   F      86  1897\n",
      "46294  Isabella   F      86  1898\n",
      "49528  Isabella   F      94  1899\n"
     ]
    }
   ],
   "source": [
    "# select * where name = Isabella\n",
    "df=bnames[bnames['name']=='Isabella']\n",
    "print(df.head(20))"
   ]
  },
  {
   "cell_type": "code",
   "execution_count": 21,
   "metadata": {},
   "outputs": [
    {
     "name": "stdout",
     "output_type": "stream",
     "text": [
      "             name sex  births  year\n",
      "1691897  Isabella   F   19891  2011\n",
      "1715378  Isabella   M      26  2011\n",
      "1725791  Isabella   F   19089  2012\n",
      "1750378  Isabella   M      18  2012\n",
      "1759507  Isabella   F   17617  2013\n",
      "1783755  Isabella   M      18  2013\n",
      "1792760  Isabella   F   17054  2014\n",
      "1816677  Isabella   M      20  2014\n",
      "1825967  Isabella   F   15574  2015\n",
      "1849600  Isabella   M      21  2015\n",
      "1859030  Isabella   F   14722  2016\n",
      "1885053  Isabella   M      11  2016\n"
     ]
    }
   ],
   "source": [
    "# select * where name=Isabella and births>= 2011\n",
    "df=bnames.loc[((bnames['name']=='Isabella') & (bnames['year']>=2011))]\n",
    "print(df)"
   ]
  },
  {
   "cell_type": "code",
   "execution_count": 22,
   "metadata": {},
   "outputs": [
    {
     "name": "stdout",
     "output_type": "stream",
     "text": [
      "628867      Gregory\n",
      "1691897    Isabella\n",
      "Name: name, dtype: object\n"
     ]
    }
   ],
   "source": [
    "# select name where births=19891\n",
    "df=bnames['name'][bnames['births']==19891]\n",
    "print(df)"
   ]
  },
  {
   "cell_type": "code",
   "execution_count": 23,
   "metadata": {},
   "outputs": [
    {
     "name": "stdout",
     "output_type": "stream",
     "text": [
      "        sex       name  births\n",
      "1691896   F     Sophia   21833\n",
      "1691897   F   Isabella   19891\n",
      "1691898   F       Emma   18791\n",
      "1691899   F     Olivia   17315\n",
      "1691900   F        Ava   15491\n",
      "1691901   F      Emily   14247\n",
      "1691902   F    Abigail   13245\n",
      "1691903   F    Madison   12374\n",
      "1691904   F        Mia   11525\n",
      "1691905   F      Chloe   10983\n",
      "1691906   F  Elizabeth   10078\n",
      "1691907   F       Ella    9585\n",
      "1691908   F    Addison    9295\n",
      "1691909   F    Natalie    8633\n",
      "1691910   F       Lily    8176\n",
      "1691911   F      Grace    7629\n",
      "1691912   F   Samantha    7392\n",
      "1691913   F      Avery    7337\n",
      "1691914   F      Sofia    7325\n",
      "1691915   F     Aubrey    7171\n"
     ]
    }
   ],
   "source": [
    "# bnames_top5: A dataframe with top 5 popular male and female names for the decade\n",
    "# select sex, name, births where the 2011 after birth\n",
    "top5 = bnames[bnames['year']>=2011].loc[:,['sex','name','births']]\n",
    "print(top5.head(20))"
   ]
  },
  {
   "cell_type": "code",
   "execution_count": 24,
   "metadata": {},
   "outputs": [
    {
     "name": "stdout",
     "output_type": "stream",
     "text": [
      "        sex       name  births\n",
      "1691896   F     Sophia   21833\n",
      "1691897   F   Isabella   19891\n",
      "1691898   F       Emma   18791\n",
      "1691899   F     Olivia   17315\n",
      "1691900   F        Ava   15491\n",
      "1691901   F      Emily   14247\n",
      "1691902   F    Abigail   13245\n",
      "1691903   F    Madison   12374\n",
      "1691904   F        Mia   11525\n",
      "1691905   F      Chloe   10983\n",
      "1691906   F  Elizabeth   10078\n",
      "1691907   F       Ella    9585\n",
      "1691908   F    Addison    9295\n",
      "1691909   F    Natalie    8633\n",
      "1691910   F       Lily    8176\n",
      "1691911   F      Grace    7629\n",
      "1691912   F   Samantha    7392\n",
      "1691913   F      Avery    7337\n",
      "1691914   F      Sofia    7325\n",
      "1691915   F     Aubrey    7171\n",
      "        sex         name  births\n",
      "1711450   M        Jacob   20356\n",
      "1711451   M        Mason   19503\n",
      "1711452   M      William   17331\n",
      "1711453   M       Jayden   16979\n",
      "1711454   M         Noah   16848\n",
      "1711455   M      Michael   16775\n",
      "1711456   M        Ethan   16677\n",
      "1711457   M    Alexander   15695\n",
      "1711458   M        Aiden   15487\n",
      "1711459   M       Daniel   15269\n",
      "1711460   M      Anthony   14260\n",
      "1711461   M      Matthew   14157\n",
      "1711462   M       Elijah   13955\n",
      "1711463   M       Joshua   13753\n",
      "1711464   M         Liam   13432\n",
      "1711465   M       Andrew   13267\n",
      "1711466   M        James   13239\n",
      "1711467   M        David   13215\n",
      "1711468   M     Benjamin   13057\n",
      "1711469   M  Christopher   12988\n"
     ]
    }
   ],
   "source": [
    "# create two distinct group \n",
    "f=top5[top5['sex']=='F']\n",
    "m=top5[top5['sex']=='M']\n",
    "print(f.head(20))\n",
    "print(m.head(20))"
   ]
  },
  {
   "cell_type": "code",
   "execution_count": 25,
   "metadata": {},
   "outputs": [
    {
     "name": "stdout",
     "output_type": "stream",
     "text": [
      "               births\n",
      "name      sex        \n",
      "Aabha     F        35\n",
      "Aabriella F        21\n",
      "Aada      F         5\n",
      "Aadhira   F        51\n",
      "Aadhvika  F         9\n",
      "Aadhya    F      1132\n",
      "Aadi      F        11\n",
      "Aadison   F         5\n",
      "Aaditri   F        32\n",
      "Aadrika   F        19\n",
      "Aadriti   F         5\n",
      "Aadvi     F         7\n",
      "Aadvika   F        33\n",
      "Aadya     F       728\n",
      "Aafia     F         6\n",
      "Aafiya    F         6\n",
      "Aafiyah   F         5\n",
      "Aagna     F         7\n",
      "Aahana    F       278\n",
      "Aahna     F        58\n"
     ]
    }
   ],
   "source": [
    "# aggregate the birth by name\n",
    "f_agg=f.groupby(['name','sex']).agg('sum')#.sort('births',ascending=False)\n",
    "m_agg=m.groupby(['name','sex']).agg('sum')#.sort('births',ascending=False)\n",
    "print(f_agg.head(20))"
   ]
  },
  {
   "cell_type": "code",
   "execution_count": 26,
   "metadata": {},
   "outputs": [
    {
     "name": "stdout",
     "output_type": "stream",
     "text": [
      "           births\n",
      "name  sex        \n",
      "Aaban M        76\n",
      "Aabid M         5\n",
      "Aabir M         5\n",
      "Aadam M       103\n",
      "Aadan M        53\n"
     ]
    }
   ],
   "source": [
    "# select the top 5 in each group\n",
    "f_agg_top5=f_agg.head(5).copy()\n",
    "m_agg_top5=m_agg.head(5).copy()\n",
    "print(m_agg_top5)"
   ]
  },
  {
   "cell_type": "code",
   "execution_count": 27,
   "metadata": {},
   "outputs": [
    {
     "name": "stdout",
     "output_type": "stream",
     "text": [
      "               births\n",
      "name      sex        \n",
      "Aabha     F        35\n",
      "Aabriella F        21\n",
      "Aada      F         5\n",
      "Aadhira   F        51\n",
      "Aadhvika  F         9\n",
      "Aaban     M        76\n",
      "Aabid     M         5\n",
      "Aabir     M         5\n",
      "Aadam     M       103\n",
      "Aadan     M        53\n"
     ]
    }
   ],
   "source": [
    "# concat the groups\n",
    "frames=[f_agg_top5, m_agg_top5]\n",
    "bnames_top5=pd.concat(frames)\n",
    "print(bnames_top5)"
   ]
  },
  {
   "cell_type": "code",
   "execution_count": 28,
   "metadata": {},
   "outputs": [
    {
     "name": "stdout",
     "output_type": "stream",
     "text": [
      "name sex  births\n",
      "    Aabha   F      35\n",
      "Aabriella   F      21\n",
      "     Aada   F       5\n",
      "  Aadhira   F      51\n",
      " Aadhvika   F       9\n",
      "    Aaban   M      76\n",
      "    Aabid   M       5\n",
      "    Aabir   M       5\n",
      "    Aadam   M     103\n",
      "    Aadan   M      53\n"
     ]
    }
   ],
   "source": [
    "#print(bnames_top5)\n",
    "#bnames_top5=bnames_top5.loc[:,['sex','name','births']]\n",
    "bnames_top5 = bnames_top5.reset_index()\n",
    "print(bnames_top5.loc[:].to_string(index=False))"
   ]
  },
  {
   "cell_type": "code",
   "execution_count": 29,
   "metadata": {
    "collapsed": true
   },
   "outputs": [],
   "source": [
    "# calculation like sum, avg, percentage\n",
    "# Percentage 1 = value 1 / Sum (eg: 50/90 on hungary)\n",
    "# Percentage 2 = value 1 / sum of column (eg: 50/260)\n",
    "# Percentage 3 = value 1 / total sum (eg: 50/400)"
   ]
  },
  {
   "cell_type": "code",
   "execution_count": 30,
   "metadata": {},
   "outputs": [
    {
     "name": "stdout",
     "output_type": "stream",
     "text": [
      "    ID  Country  Value 1  Value 2  Sum  Percentage 1  Percentage 2  \\\n",
      "0  1.0  Hungary       50       40   90      0.555556      0.192308   \n",
      "1  2.0  Germany      100       30  130      0.769231      0.384615   \n",
      "2  3.0  England       40       20   60      0.666667      0.153846   \n",
      "3  4.0      USA       70       50  120      0.583333      0.269231   \n",
      "4  NaN      NaN      260      140  400           NaN           NaN   \n",
      "\n",
      "   Percentage 3  \n",
      "0         0.125  \n",
      "1         0.250  \n",
      "2         0.100  \n",
      "3         0.175  \n",
      "4           NaN  \n"
     ]
    }
   ],
   "source": [
    "xlsFile='ExcelToLoad.xlsx'\n",
    "xl = pd.ExcelFile(xlsFile)\n",
    "# calculated fields: sum, percentage, percentage 2, percentage 3\n",
    "df_result = xl.parse('data final')\n",
    "print(df_result)"
   ]
  },
  {
   "cell_type": "code",
   "execution_count": 31,
   "metadata": {},
   "outputs": [
    {
     "name": "stdout",
     "output_type": "stream",
     "text": [
      "   ID  Country  Value 1  Value 2\n",
      "0   1  Hungary       50       40\n",
      "1   2  Germany      100       30\n",
      "2   3  England       40       20\n",
      "3   4      USA       70       50\n"
     ]
    }
   ],
   "source": [
    "df = xl.parse('data')\n",
    "print(df)"
   ]
  },
  {
   "cell_type": "code",
   "execution_count": 32,
   "metadata": {},
   "outputs": [
    {
     "name": "stdout",
     "output_type": "stream",
     "text": [
      "   Country variable  value\n",
      "0  Hungary  Value 1     50\n",
      "1  Germany  Value 1    100\n",
      "2  England  Value 1     40\n",
      "3      USA  Value 1     70\n",
      "4  Hungary  Value 2     40\n",
      "5  Germany  Value 2     30\n",
      "6  England  Value 2     20\n",
      "7      USA  Value 2     50\n"
     ]
    }
   ],
   "source": [
    "# Melt the data from column base into one table base\n",
    "# The id_vars represent the columns of the data you do not want to melt\n",
    "# value_vars represent the columns you do wish to melt into rows\n",
    "dfmelt=pd.melt(frame=df, id_vars='Country', value_vars=['Value 1', 'Value 2'])\n",
    "print(dfmelt)"
   ]
  },
  {
   "cell_type": "code",
   "execution_count": 33,
   "metadata": {},
   "outputs": [
    {
     "name": "stdout",
     "output_type": "stream",
     "text": [
      "   Country   Values  measures\n",
      "0  Hungary  Value 1        50\n",
      "1  Germany  Value 1       100\n",
      "2  England  Value 1        40\n",
      "3      USA  Value 1        70\n",
      "4  Hungary  Value 2        40\n",
      "5  Germany  Value 2        30\n",
      "6  England  Value 2        20\n",
      "7      USA  Value 2        50\n"
     ]
    }
   ],
   "source": [
    "#re-name the columns in the melt\n",
    "dfmelt=pd.melt(frame=df, id_vars='Country', value_vars=['Value 1', 'Value 2'], var_name='Values', value_name='measures')\n",
    "print(dfmelt)"
   ]
  },
  {
   "cell_type": "code",
   "execution_count": 49,
   "metadata": {},
   "outputs": [
    {
     "name": "stdout",
     "output_type": "stream",
     "text": [
      "Values  Country  Value 1  Value 2\n",
      "0       England       40       20\n",
      "1       Germany      100       30\n",
      "2       Hungary       50       40\n",
      "3           USA       70       50\n"
     ]
    }
   ],
   "source": [
    "# Pivoting data opposite of melting\n",
    "dfpivot=dfmelt.pivot_table(index='Country', columns='Values', values='measures')\n",
    "dfpivot=dfpivot.reset_index()\n",
    "print(dfpivot.head())"
   ]
  },
  {
   "cell_type": "code",
   "execution_count": 34,
   "metadata": {},
   "outputs": [
    {
     "name": "stdout",
     "output_type": "stream",
     "text": [
      "260\n"
     ]
    }
   ],
   "source": [
    "# Sum of Value 1 sum, mean, min, max are the same\n",
    "sum=df['Value 1'].sum()\n",
    "print(sum)"
   ]
  },
  {
   "cell_type": "code",
   "execution_count": 35,
   "metadata": {},
   "outputs": [
    {
     "name": "stdout",
     "output_type": "stream",
     "text": [
      "0     90\n",
      "1    130\n",
      "2     60\n",
      "3    120\n",
      "dtype: int64\n"
     ]
    }
   ],
   "source": [
    "#Sum of values per country\n",
    "sum=df['Value 1']+df['Value 2']\n",
    "print(sum)"
   ]
  },
  {
   "cell_type": "code",
   "execution_count": 36,
   "metadata": {},
   "outputs": [
    {
     "name": "stdout",
     "output_type": "stream",
     "text": [
      "90\n"
     ]
    }
   ],
   "source": [
    "#Sum of values per country to Hungary\n",
    "sum=df['Value 1']+df['Value 2']\n",
    "print(sum[0])"
   ]
  },
  {
   "cell_type": "code",
   "execution_count": 37,
   "metadata": {},
   "outputs": [
    {
     "name": "stdout",
     "output_type": "stream",
     "text": [
      "400\n"
     ]
    }
   ],
   "source": [
    "#Sum of values per country\n",
    "sum=(df['Value 1']+df['Value 2']).sum()\n",
    "print(sum)"
   ]
  },
  {
   "cell_type": "code",
   "execution_count": 38,
   "metadata": {},
   "outputs": [
    {
     "name": "stdout",
     "output_type": "stream",
     "text": [
      "0    0.555556\n",
      "1    0.769231\n",
      "2    0.666667\n",
      "3    0.583333\n",
      "dtype: float64\n"
     ]
    }
   ],
   "source": [
    "# Percentage 1\n",
    "perc1=df['Value 1'] / (df['Value 1']+df['Value 2'])\n",
    "print(perc1)"
   ]
  },
  {
   "cell_type": "code",
   "execution_count": 39,
   "metadata": {},
   "outputs": [
    {
     "name": "stdout",
     "output_type": "stream",
     "text": [
      "0    0.192308\n",
      "1    0.384615\n",
      "2    0.153846\n",
      "3    0.269231\n",
      "Name: Value 1, dtype: float64\n"
     ]
    }
   ],
   "source": [
    "# Percentage 2\n",
    "perc2=df['Value 1'] / df['Value 1'].sum()\n",
    "print(perc2)"
   ]
  },
  {
   "cell_type": "code",
   "execution_count": 40,
   "metadata": {},
   "outputs": [
    {
     "name": "stdout",
     "output_type": "stream",
     "text": [
      "0    0.125\n",
      "1    0.250\n",
      "2    0.100\n",
      "3    0.175\n",
      "Name: Value 1, dtype: float64\n"
     ]
    }
   ],
   "source": [
    "# Percentage 3\n",
    "perc3=df['Value 1'] / (df['Value 1']+df['Value 2']).sum()\n",
    "print(perc3)"
   ]
  },
  {
   "cell_type": "code",
   "execution_count": null,
   "metadata": {
    "collapsed": true
   },
   "outputs": [],
   "source": []
  },
  {
   "cell_type": "code",
   "execution_count": 41,
   "metadata": {
    "collapsed": true
   },
   "outputs": [],
   "source": [
    "# attributes and methods list\n",
    "# https://pandas.pydata.org/pandas-docs/stable/generated/pandas.DataFrame.html"
   ]
  }
 ],
 "metadata": {
  "kernelspec": {
   "display_name": "Python 3",
   "language": "python",
   "name": "python3"
  },
  "language_info": {
   "codemirror_mode": {
    "name": "ipython",
    "version": 3
   },
   "file_extension": ".py",
   "mimetype": "text/x-python",
   "name": "python",
   "nbconvert_exporter": "python",
   "pygments_lexer": "ipython3",
   "version": "3.6.1"
  }
 },
 "nbformat": 4,
 "nbformat_minor": 2
}
