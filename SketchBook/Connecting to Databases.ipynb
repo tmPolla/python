{
 "cells": [
  {
   "cell_type": "code",
   "execution_count": null,
   "metadata": {
    "collapsed": true
   },
   "outputs": [],
   "source": [
    "# Import create_engine\n",
    "from sqlalchemy import create_engine\n",
    "\n",
    "# Create an engine that connects to the census.sqlite file: engine\n",
    "engine = create_engine('sqlite:///census.sqlite')\n",
    "\n",
    "# Print table names\n",
    "print(engine.table_names())\n",
    "\n",
    "# Print the column names\n",
    "print(census.columns.keys())\n",
    "\n",
    "# Print full table metadata\n",
    "print(repr(metadata.tables['census']))\n",
    "\n",
    "\n",
    "connection = engine.connect()\n",
    "stmt = 'SELECT * FROM people'\n",
    "result_proxy = connection.execute(stmt)\n",
    "results = result_proxy.fetchall()\n",
    "# Execute the statement and fetch the results: results\n",
    "results = connection.execute(stmt).fetchall()\n",
    "\n",
    "\n",
    "# Import select\n",
    "from sqlalchemy import select\n",
    "\n",
    "# Reflect census table via engine: census\n",
    "census = Table('census', metadata, autoload=True, autoload_with=engine)\n",
    "\n",
    "# Build select statement for census table: stmt\n",
    "stmt = select([census])\n",
    "\n",
    "# Print the emitted statement to see the SQL emitted\n",
    "print(stmt)\n",
    "\n",
    "# Execute the statement and print the results\n",
    "print(connection.execute(stmt).fetchall())\n",
    "\n",
    "first_row =  results[0]\n",
    "\n",
    "# Print the first row of the results\n",
    "print(first_row)\n",
    "\n",
    "# Print the first column of the first row by using an index\n",
    "print(first_row[0])"
   ]
  }
 ],
 "metadata": {
  "kernelspec": {
   "display_name": "Python 3",
   "language": "python",
   "name": "python3"
  },
  "language_info": {
   "codemirror_mode": {
    "name": "ipython",
    "version": 3
   },
   "file_extension": ".py",
   "mimetype": "text/x-python",
   "name": "python",
   "nbconvert_exporter": "python",
   "pygments_lexer": "ipython3",
   "version": "3.6.1"
  }
 },
 "nbformat": 4,
 "nbformat_minor": 2
}
