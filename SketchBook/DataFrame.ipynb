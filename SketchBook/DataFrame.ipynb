{
 "cells": [
  {
   "cell_type": "code",
   "execution_count": 42,
   "metadata": {
    "collapsed": true
   },
   "outputs": [],
   "source": [
    "# Import modules\n",
    "import pandas as pd\n",
    "import numpy as np"
   ]
  },
  {
   "cell_type": "code",
   "execution_count": 43,
   "metadata": {},
   "outputs": [
    {
     "data": {
      "text/html": [
       "<div>\n",
       "<style>\n",
       "    .dataframe thead tr:only-child th {\n",
       "        text-align: right;\n",
       "    }\n",
       "\n",
       "    .dataframe thead th {\n",
       "        text-align: left;\n",
       "    }\n",
       "\n",
       "    .dataframe tbody tr th {\n",
       "        vertical-align: top;\n",
       "    }\n",
       "</style>\n",
       "<table border=\"1\" class=\"dataframe\">\n",
       "  <thead>\n",
       "    <tr style=\"text-align: right;\">\n",
       "      <th></th>\n",
       "      <th>name</th>\n",
       "      <th>sex</th>\n",
       "      <th>births</th>\n",
       "      <th>year</th>\n",
       "    </tr>\n",
       "  </thead>\n",
       "  <tbody>\n",
       "    <tr>\n",
       "      <th>0</th>\n",
       "      <td>Mary</td>\n",
       "      <td>F</td>\n",
       "      <td>7065</td>\n",
       "      <td>1880</td>\n",
       "    </tr>\n",
       "    <tr>\n",
       "      <th>1</th>\n",
       "      <td>Anna</td>\n",
       "      <td>F</td>\n",
       "      <td>2604</td>\n",
       "      <td>1880</td>\n",
       "    </tr>\n",
       "    <tr>\n",
       "      <th>2</th>\n",
       "      <td>Emma</td>\n",
       "      <td>F</td>\n",
       "      <td>2003</td>\n",
       "      <td>1880</td>\n",
       "    </tr>\n",
       "    <tr>\n",
       "      <th>3</th>\n",
       "      <td>Elizabeth</td>\n",
       "      <td>F</td>\n",
       "      <td>1939</td>\n",
       "      <td>1880</td>\n",
       "    </tr>\n",
       "    <tr>\n",
       "      <th>4</th>\n",
       "      <td>Minnie</td>\n",
       "      <td>F</td>\n",
       "      <td>1746</td>\n",
       "      <td>1880</td>\n",
       "    </tr>\n",
       "  </tbody>\n",
       "</table>\n",
       "</div>"
      ],
      "text/plain": [
       "        name sex  births  year\n",
       "0       Mary   F    7065  1880\n",
       "1       Anna   F    2604  1880\n",
       "2       Emma   F    2003  1880\n",
       "3  Elizabeth   F    1939  1880\n",
       "4     Minnie   F    1746  1880"
      ]
     },
     "execution_count": 43,
     "metadata": {},
     "output_type": "execute_result"
    }
   ],
   "source": [
    "# Read names into a dataframe: bnames\n",
    "bnames=pd.read_csv('names.csv')\n",
    "bnames.head()"
   ]
  },
  {
   "cell_type": "code",
   "execution_count": 44,
   "metadata": {},
   "outputs": [
    {
     "name": "stdout",
     "output_type": "stream",
     "text": [
      "   A   B     C   D\n",
      "0  1  10  15.0   0\n",
      "1  2  20   NaN   0\n",
      "2  3  30  35.0  37\n",
      "3  4  40  45.0  47\n",
      "4  5  50  55.0   0\n"
     ]
    }
   ],
   "source": [
    "df_numbers=pd.DataFrame()\n",
    "df_numbers['A']=[1,2,3,4,5]\n",
    "df_numbers['B']=[10,20,30,40,50]\n",
    "df_numbers['C']=[15,np.nan,35,45,55]\n",
    "df_numbers['D']=[0,0,37,47,0]\n",
    "print(df_numbers)"
   ]
  },
  {
   "cell_type": "code",
   "execution_count": 45,
   "metadata": {},
   "outputs": [
    {
     "data": {
      "text/plain": [
       "(1891894, 4)"
      ]
     },
     "execution_count": 45,
     "metadata": {},
     "output_type": "execute_result"
    }
   ],
   "source": [
    "bnames.shape"
   ]
  },
  {
   "cell_type": "code",
   "execution_count": 46,
   "metadata": {},
   "outputs": [
    {
     "name": "stdout",
     "output_type": "stream",
     "text": [
      "<class 'pandas.core.frame.DataFrame'>\n",
      "RangeIndex: 1891894 entries, 0 to 1891893\n",
      "Data columns (total 4 columns):\n",
      "name      object\n",
      "sex       object\n",
      "births    int64\n",
      "year      int64\n",
      "dtypes: int64(2), object(2)\n",
      "memory usage: 57.7+ MB\n"
     ]
    }
   ],
   "source": [
    "bnames.info()"
   ]
  },
  {
   "cell_type": "code",
   "execution_count": 47,
   "metadata": {},
   "outputs": [
    {
     "data": {
      "text/plain": [
       "Index(['name', 'sex', 'births', 'year'], dtype='object')"
      ]
     },
     "execution_count": 47,
     "metadata": {},
     "output_type": "execute_result"
    }
   ],
   "source": [
    "bnames.columns"
   ]
  },
  {
   "cell_type": "code",
   "execution_count": 48,
   "metadata": {},
   "outputs": [
    {
     "data": {
      "text/html": [
       "<div>\n",
       "<style>\n",
       "    .dataframe thead tr:only-child th {\n",
       "        text-align: right;\n",
       "    }\n",
       "\n",
       "    .dataframe thead th {\n",
       "        text-align: left;\n",
       "    }\n",
       "\n",
       "    .dataframe tbody tr th {\n",
       "        vertical-align: top;\n",
       "    }\n",
       "</style>\n",
       "<table border=\"1\" class=\"dataframe\">\n",
       "  <thead>\n",
       "    <tr style=\"text-align: right;\">\n",
       "      <th></th>\n",
       "      <th>births</th>\n",
       "      <th>year</th>\n",
       "    </tr>\n",
       "  </thead>\n",
       "  <tbody>\n",
       "    <tr>\n",
       "      <th>count</th>\n",
       "      <td>1.891894e+06</td>\n",
       "      <td>1.891894e+06</td>\n",
       "    </tr>\n",
       "    <tr>\n",
       "      <th>mean</th>\n",
       "      <td>1.821106e+02</td>\n",
       "      <td>1.974122e+03</td>\n",
       "    </tr>\n",
       "    <tr>\n",
       "      <th>std</th>\n",
       "      <td>1.544197e+03</td>\n",
       "      <td>3.386497e+01</td>\n",
       "    </tr>\n",
       "    <tr>\n",
       "      <th>min</th>\n",
       "      <td>5.000000e+00</td>\n",
       "      <td>1.880000e+03</td>\n",
       "    </tr>\n",
       "    <tr>\n",
       "      <th>25%</th>\n",
       "      <td>7.000000e+00</td>\n",
       "      <td>1.951000e+03</td>\n",
       "    </tr>\n",
       "    <tr>\n",
       "      <th>50%</th>\n",
       "      <td>1.200000e+01</td>\n",
       "      <td>1.984000e+03</td>\n",
       "    </tr>\n",
       "    <tr>\n",
       "      <th>75%</th>\n",
       "      <td>3.200000e+01</td>\n",
       "      <td>2.002000e+03</td>\n",
       "    </tr>\n",
       "    <tr>\n",
       "      <th>max</th>\n",
       "      <td>9.968500e+04</td>\n",
       "      <td>2.016000e+03</td>\n",
       "    </tr>\n",
       "  </tbody>\n",
       "</table>\n",
       "</div>"
      ],
      "text/plain": [
       "             births          year\n",
       "count  1.891894e+06  1.891894e+06\n",
       "mean   1.821106e+02  1.974122e+03\n",
       "std    1.544197e+03  3.386497e+01\n",
       "min    5.000000e+00  1.880000e+03\n",
       "25%    7.000000e+00  1.951000e+03\n",
       "50%    1.200000e+01  1.984000e+03\n",
       "75%    3.200000e+01  2.002000e+03\n",
       "max    9.968500e+04  2.016000e+03"
      ]
     },
     "execution_count": 48,
     "metadata": {},
     "output_type": "execute_result"
    }
   ],
   "source": [
    "bnames.describe()"
   ]
  },
  {
   "cell_type": "code",
   "execution_count": 49,
   "metadata": {},
   "outputs": [
    {
     "data": {
      "text/plain": [
       "Jessie     274\n",
       "William    274\n",
       "Leslie     274\n",
       "Tommie     274\n",
       "James      274\n",
       "Name: name, dtype: int64"
      ]
     },
     "execution_count": 49,
     "metadata": {},
     "output_type": "execute_result"
    }
   ],
   "source": [
    "bnames.name.value_counts().head()"
   ]
  },
  {
   "cell_type": "code",
   "execution_count": 50,
   "metadata": {},
   "outputs": [
    {
     "data": {
      "text/plain": [
       "Jessie     274\n",
       "William    274\n",
       "Leslie     274\n",
       "Tommie     274\n",
       "James      274\n",
       "Name: name, dtype: int64"
      ]
     },
     "execution_count": 50,
     "metadata": {},
     "output_type": "execute_result"
    }
   ],
   "source": [
    "bnames.name.value_counts(dropna=False).head()\n"
   ]
  },
  {
   "cell_type": "code",
   "execution_count": 51,
   "metadata": {},
   "outputs": [
    {
     "data": {
      "text/plain": [
       "Jessie     274\n",
       "William    274\n",
       "Leslie     274\n",
       "Tommie     274\n",
       "James      274\n",
       "Name: name, dtype: int64"
      ]
     },
     "execution_count": 51,
     "metadata": {},
     "output_type": "execute_result"
    }
   ],
   "source": [
    "bnames['name'].value_counts(dropna=False).head()"
   ]
  },
  {
   "cell_type": "code",
   "execution_count": 52,
   "metadata": {},
   "outputs": [
    {
     "data": {
      "text/html": [
       "<div>\n",
       "<style>\n",
       "    .dataframe thead tr:only-child th {\n",
       "        text-align: right;\n",
       "    }\n",
       "\n",
       "    .dataframe thead th {\n",
       "        text-align: left;\n",
       "    }\n",
       "\n",
       "    .dataframe tbody tr th {\n",
       "        vertical-align: top;\n",
       "    }\n",
       "</style>\n",
       "<table border=\"1\" class=\"dataframe\">\n",
       "  <thead>\n",
       "    <tr style=\"text-align: right;\">\n",
       "      <th></th>\n",
       "      <th>births</th>\n",
       "      <th>year</th>\n",
       "    </tr>\n",
       "  </thead>\n",
       "  <tbody>\n",
       "    <tr>\n",
       "      <th>count</th>\n",
       "      <td>1.891894e+06</td>\n",
       "      <td>1.891894e+06</td>\n",
       "    </tr>\n",
       "    <tr>\n",
       "      <th>mean</th>\n",
       "      <td>1.821106e+02</td>\n",
       "      <td>1.974122e+03</td>\n",
       "    </tr>\n",
       "    <tr>\n",
       "      <th>std</th>\n",
       "      <td>1.544197e+03</td>\n",
       "      <td>3.386497e+01</td>\n",
       "    </tr>\n",
       "    <tr>\n",
       "      <th>min</th>\n",
       "      <td>5.000000e+00</td>\n",
       "      <td>1.880000e+03</td>\n",
       "    </tr>\n",
       "    <tr>\n",
       "      <th>25%</th>\n",
       "      <td>7.000000e+00</td>\n",
       "      <td>1.951000e+03</td>\n",
       "    </tr>\n",
       "    <tr>\n",
       "      <th>50%</th>\n",
       "      <td>1.200000e+01</td>\n",
       "      <td>1.984000e+03</td>\n",
       "    </tr>\n",
       "    <tr>\n",
       "      <th>75%</th>\n",
       "      <td>3.200000e+01</td>\n",
       "      <td>2.002000e+03</td>\n",
       "    </tr>\n",
       "    <tr>\n",
       "      <th>max</th>\n",
       "      <td>9.968500e+04</td>\n",
       "      <td>2.016000e+03</td>\n",
       "    </tr>\n",
       "  </tbody>\n",
       "</table>\n",
       "</div>"
      ],
      "text/plain": [
       "             births          year\n",
       "count  1.891894e+06  1.891894e+06\n",
       "mean   1.821106e+02  1.974122e+03\n",
       "std    1.544197e+03  3.386497e+01\n",
       "min    5.000000e+00  1.880000e+03\n",
       "25%    7.000000e+00  1.951000e+03\n",
       "50%    1.200000e+01  1.984000e+03\n",
       "75%    3.200000e+01  2.002000e+03\n",
       "max    9.968500e+04  2.016000e+03"
      ]
     },
     "execution_count": 52,
     "metadata": {},
     "output_type": "execute_result"
    }
   ],
   "source": [
    "bnames.describe()"
   ]
  },
  {
   "cell_type": "code",
   "execution_count": 53,
   "metadata": {},
   "outputs": [
    {
     "data": {
      "text/plain": [
       "count    1.891894e+06\n",
       "mean     1.821106e+02\n",
       "std      1.544197e+03\n",
       "min      5.000000e+00\n",
       "25%      7.000000e+00\n",
       "50%      1.200000e+01\n",
       "75%      3.200000e+01\n",
       "max      9.968500e+04\n",
       "Name: births, dtype: float64"
      ]
     },
     "execution_count": 53,
     "metadata": {},
     "output_type": "execute_result"
    }
   ],
   "source": [
    "bnames['births'].describe()"
   ]
  },
  {
   "cell_type": "code",
   "execution_count": 54,
   "metadata": {},
   "outputs": [
    {
     "name": "stdout",
     "output_type": "stream",
     "text": [
      "          sex  births  year Char\n",
      "name                            \n",
      "Mary        F    7065  1880    M\n",
      "Anna        F    2604  1880    A\n",
      "Emma        F    2003  1880    E\n",
      "Elizabeth   F    1939  1880    E\n",
      "Minnie      F    1746  1880    M\n"
     ]
    }
   ],
   "source": [
    "top5=bnames.head(5).copy()\n",
    "top5['Char']=top5['name'].astype(str).str[0]\n",
    "top5=top5.set_index('name')\n",
    "print(top5)"
   ]
  },
  {
   "cell_type": "code",
   "execution_count": 55,
   "metadata": {},
   "outputs": [
    {
     "name": "stdout",
     "output_type": "stream",
     "text": [
      "          sex  births  year Char\n",
      "name                            \n",
      "Mary        F    7065  1880    M\n",
      "Anna        F    2604  1880    A\n",
      "Emma        F    2003  1880    E\n",
      "Elizabeth   F    1939  1880    E\n",
      "Minnie      F    1746  1880    M\n"
     ]
    }
   ],
   "source": [
    "top5=bnames.head(5).copy()\n",
    "top5['Char']=top5.name.str[0]\n",
    "top5=top5.set_index('name')\n",
    "print(top5)"
   ]
  },
  {
   "cell_type": "code",
   "execution_count": 56,
   "metadata": {
    "collapsed": true
   },
   "outputs": [],
   "source": [
    "# Selecting value from the DataFrame"
   ]
  },
  {
   "cell_type": "code",
   "execution_count": 57,
   "metadata": {},
   "outputs": [
    {
     "name": "stdout",
     "output_type": "stream",
     "text": [
      "          sex  births  year Char\n",
      "name                            \n",
      "Mary        F    7065  1880    M\n",
      "Anna        F    2604  1880    A\n",
      "Emma        F    2003  1880    E\n",
      "Elizabeth   F    1939  1880    E\n",
      "Minnie      F    1746  1880    M\n"
     ]
    }
   ],
   "source": [
    "print(top5.loc[:])"
   ]
  },
  {
   "cell_type": "code",
   "execution_count": 58,
   "metadata": {},
   "outputs": [
    {
     "name": "stdout",
     "output_type": "stream",
     "text": [
      "       sex  births  year Char\n",
      "name                         \n",
      "Mary     F    7065  1880    M\n",
      "Emma     F    2003  1880    E\n",
      "Minnie   F    1746  1880    M\n"
     ]
    }
   ],
   "source": [
    "df=top5.loc[::2]\n",
    "print(df)"
   ]
  },
  {
   "cell_type": "code",
   "execution_count": 59,
   "metadata": {},
   "outputs": [
    {
     "name": "stdout",
     "output_type": "stream",
     "text": [
      "          sex  births  year Char\n",
      "name                            \n",
      "Minnie      F    1746  1880    M\n",
      "Elizabeth   F    1939  1880    E\n",
      "Emma        F    2003  1880    E\n",
      "Anna        F    2604  1880    A\n",
      "Mary        F    7065  1880    M\n"
     ]
    }
   ],
   "source": [
    "df=top5.loc[::-1]\n",
    "print(df)"
   ]
  },
  {
   "cell_type": "code",
   "execution_count": 60,
   "metadata": {},
   "outputs": [
    {
     "name": "stdout",
     "output_type": "stream",
     "text": [
      "          sex  births  year Char\n",
      "name                            \n",
      "Minnie      F    1746  1880    M\n",
      "Elizabeth   F    1939  1880    E\n",
      "Emma        F    2003  1880    E\n",
      "Anna        F    2604  1880    A\n",
      "Mary        F    7065  1880    M\n"
     ]
    }
   ],
   "source": [
    "df=top5.loc[::-1]\n",
    "print(df)"
   ]
  },
  {
   "cell_type": "code",
   "execution_count": 61,
   "metadata": {},
   "outputs": [
    {
     "name": "stdout",
     "output_type": "stream",
     "text": [
      "1746\n"
     ]
    }
   ],
   "source": [
    "df=top5['births']['Minnie']\n",
    "print(df)"
   ]
  },
  {
   "cell_type": "code",
   "execution_count": 62,
   "metadata": {},
   "outputs": [
    {
     "name": "stdout",
     "output_type": "stream",
     "text": [
      "1746\n"
     ]
    }
   ],
   "source": [
    "df=top5.births['Minnie']\n",
    "print(df)"
   ]
  },
  {
   "cell_type": "code",
   "execution_count": 63,
   "metadata": {},
   "outputs": [
    {
     "name": "stdout",
     "output_type": "stream",
     "text": [
      "1746\n"
     ]
    }
   ],
   "source": [
    "df=top5.loc['Minnie','births']\n",
    "print(df)"
   ]
  },
  {
   "cell_type": "code",
   "execution_count": 64,
   "metadata": {},
   "outputs": [
    {
     "name": "stdout",
     "output_type": "stream",
     "text": [
      "1746\n"
     ]
    }
   ],
   "source": [
    "# births is the 2nd column, Minnie is the last element\n",
    "df=top5.iloc[-1,1]\n",
    "print(df)"
   ]
  },
  {
   "cell_type": "code",
   "execution_count": 65,
   "metadata": {
    "collapsed": true
   },
   "outputs": [],
   "source": [
    "# Filtering"
   ]
  },
  {
   "cell_type": "code",
   "execution_count": 66,
   "metadata": {},
   "outputs": [
    {
     "name": "stdout",
     "output_type": "stream",
     "text": [
      "0    False\n",
      "1    False\n",
      "2    False\n",
      "3     True\n",
      "4    False\n",
      "5    False\n",
      "6    False\n",
      "7    False\n",
      "8     True\n",
      "9    False\n",
      "Name: name, dtype: bool\n"
     ]
    }
   ],
   "source": [
    "df=bnames['name'].str.contains('th').head(10)\n",
    "print(df)"
   ]
  },
  {
   "cell_type": "code",
   "execution_count": 67,
   "metadata": {},
   "outputs": [
    {
     "name": "stdout",
     "output_type": "stream",
     "text": [
      "          name sex  births  year\n",
      "3    Elizabeth   F    1939  1880\n",
      "8       Bertha   F    1320  1880\n",
      "15      Martha   F    1040  1880\n",
      "27       Edith   F     768  1880\n",
      "30   Catherine   F     688  1880\n",
      "37       Ethel   F     633  1880\n",
      "52   Katherine   F     502  1880\n",
      "92        Ruth   F     234  1880\n",
      "102    Kathryn   F     204  1880\n",
      "103     Esther   F     198  1880\n"
     ]
    }
   ],
   "source": [
    "df=bnames[bnames['name'].str.contains('th')].head(10)\n",
    "print(df)"
   ]
  },
  {
   "cell_type": "code",
   "execution_count": 68,
   "metadata": {},
   "outputs": [
    {
     "name": "stdout",
     "output_type": "stream",
     "text": [
      "sex          F\n",
      "births    1746\n",
      "year      1880\n",
      "Char         M\n",
      "Name: Minnie, dtype: object\n"
     ]
    }
   ],
   "source": [
    "df=top5.loc['Minnie']\n",
    "print(df)"
   ]
  },
  {
   "cell_type": "code",
   "execution_count": 69,
   "metadata": {},
   "outputs": [
    {
     "name": "stdout",
     "output_type": "stream",
     "text": [
      "     sex  births  year Char\n",
      "name                       \n",
      "Mary   F    7065  1880    M\n",
      "Anna   F    2604  1880    A\n"
     ]
    }
   ],
   "source": [
    "df=top5.loc['Mary':'Anna']\n",
    "print(df)"
   ]
  },
  {
   "cell_type": "code",
   "execution_count": 70,
   "metadata": {},
   "outputs": [
    {
     "name": "stdout",
     "output_type": "stream",
     "text": [
      "births    7065\n",
      "year      1880\n",
      "Name: Mary, dtype: object\n"
     ]
    }
   ],
   "source": [
    "df=top5.loc['Mary', 'births':'year']\n",
    "print(df)"
   ]
  },
  {
   "cell_type": "code",
   "execution_count": 71,
   "metadata": {},
   "outputs": [
    {
     "name": "stdout",
     "output_type": "stream",
     "text": [
      "   A   B     C   D\n",
      "0  1  10  15.0   0\n",
      "1  2  20   NaN   0\n",
      "2  3  30  35.0  37\n",
      "3  4  40  45.0  47\n",
      "4  5  50  55.0   0\n",
      "   A   B     C\n",
      "0  1  10  15.0\n",
      "1  2  20   NaN\n",
      "2  3  30  35.0\n",
      "3  4  40  45.0\n",
      "4  5  50  55.0\n"
     ]
    }
   ],
   "source": [
    "# select all column with all nonzeros\n",
    "print(df_numbers)\n",
    "print(df_numbers.loc[:, df_numbers.all()])"
   ]
  },
  {
   "cell_type": "code",
   "execution_count": 72,
   "metadata": {},
   "outputs": [
    {
     "name": "stdout",
     "output_type": "stream",
     "text": [
      "   A   B     C   D\n",
      "0  1  10  15.0   0\n",
      "1  2  20   NaN   0\n",
      "2  3  30  35.0  37\n",
      "3  4  40  45.0  47\n",
      "4  5  50  55.0   0\n",
      "   A   B     C   D\n",
      "0  1  10  15.0   0\n",
      "1  2  20   NaN   0\n",
      "2  3  30  35.0  37\n",
      "3  4  40  45.0  47\n",
      "4  5  50  55.0   0\n"
     ]
    }
   ],
   "source": [
    "# select all column with any nonezeros\n",
    "print(df_numbers)\n",
    "print(df_numbers.loc[:, df_numbers.any()])"
   ]
  },
  {
   "cell_type": "code",
   "execution_count": 73,
   "metadata": {},
   "outputs": [
    {
     "name": "stdout",
     "output_type": "stream",
     "text": [
      "   A   B     C   D\n",
      "0  1  10  15.0   0\n",
      "1  2  20   NaN   0\n",
      "2  3  30  35.0  37\n",
      "3  4  40  45.0  47\n",
      "4  5  50  55.0   0\n",
      "      C\n",
      "0  15.0\n",
      "1   NaN\n",
      "2  35.0\n",
      "3  45.0\n",
      "4  55.0\n"
     ]
    }
   ],
   "source": [
    "# select all columns with any NaNs\n",
    "print(df_numbers)\n",
    "print(df_numbers.loc[:, df_numbers.isnull().any()])"
   ]
  },
  {
   "cell_type": "code",
   "execution_count": 74,
   "metadata": {},
   "outputs": [
    {
     "name": "stdout",
     "output_type": "stream",
     "text": [
      "   A   B     C   D\n",
      "0  1  10  15.0   0\n",
      "1  2  20   NaN   0\n",
      "2  3  30  35.0  37\n",
      "3  4  40  45.0  47\n",
      "4  5  50  55.0   0\n",
      "   A   B   D\n",
      "0  1  10   0\n",
      "1  2  20   0\n",
      "2  3  30  37\n",
      "3  4  40  47\n",
      "4  5  50   0\n"
     ]
    }
   ],
   "source": [
    "# select all columns without NaNs\n",
    "print(df_numbers)\n",
    "print(df_numbers.loc[:, df_numbers.notnull().all()])"
   ]
  },
  {
   "cell_type": "code",
   "execution_count": 75,
   "metadata": {},
   "outputs": [
    {
     "name": "stdout",
     "output_type": "stream",
     "text": [
      "   A   B     C   D\n",
      "0  1  10  15.0   0\n",
      "1  2  20   NaN   0\n",
      "2  3  30  35.0  37\n",
      "3  4  40  45.0  47\n",
      "4  5  50  55.0   0\n",
      "   A   B     C   D\n",
      "0  1  10  15.0   0\n",
      "1  2  20   NaN   0\n",
      "2  3  30  35.0  37\n",
      "3  4  40  45.0  47\n",
      "4  5  50  55.0   0\n"
     ]
    }
   ],
   "source": [
    "df_numbers2=df_numbers.copy()\n",
    "df_numbers2.dropna(how='all')\n",
    "print(df_numbers)\n",
    "print(df_numbers2)"
   ]
  },
  {
   "cell_type": "code",
   "execution_count": 76,
   "metadata": {
    "collapsed": true
   },
   "outputs": [],
   "source": [
    "# working with indexes"
   ]
  },
  {
   "cell_type": "code",
   "execution_count": 77,
   "metadata": {},
   "outputs": [
    {
     "name": "stdout",
     "output_type": "stream",
     "text": [
      "        name sex  births  year\n",
      "0       Mary   F    7065  1880\n",
      "1       Anna   F    2604  1880\n",
      "2       Emma   F    2003  1880\n",
      "3  Elizabeth   F    1939  1880\n",
      "4     Minnie   F    1746  1880\n"
     ]
    }
   ],
   "source": [
    "df=bnames.head().copy()\n",
    "print(df)"
   ]
  },
  {
   "cell_type": "code",
   "execution_count": 78,
   "metadata": {},
   "outputs": [
    {
     "name": "stdout",
     "output_type": "stream",
     "text": [
      "          sex  births  year\n",
      "name                       \n",
      "MARY        F    7065  1880\n",
      "ANNA        F    2604  1880\n",
      "EMMA        F    2003  1880\n",
      "ELIZABETH   F    1939  1880\n",
      "MINNIE      F    1746  1880\n"
     ]
    }
   ],
   "source": [
    "#Set index name to the name column and create upper index elements\n",
    "# in that way the name column will appear only once as index column\n",
    "df=df.set_index('name')\n",
    "df.index=df.index.map(str.upper)\n",
    "print(df)"
   ]
  },
  {
   "cell_type": "code",
   "execution_count": 79,
   "metadata": {},
   "outputs": [
    {
     "name": "stdout",
     "output_type": "stream",
     "text": [
      "          sex  births  year\n",
      "name                       \n",
      "mary        F    7065  1880\n",
      "anna        F    2604  1880\n",
      "emma        F    2003  1880\n",
      "elizabeth   F    1939  1880\n",
      "minnie      F    1746  1880\n"
     ]
    }
   ],
   "source": [
    "df.index=df.index.str.lower()\n",
    "print(df)"
   ]
  },
  {
   "cell_type": "code",
   "execution_count": 80,
   "metadata": {},
   "outputs": [
    {
     "name": "stdout",
     "output_type": "stream",
     "text": [
      "          sex  births  year\n",
      "MARY        F    7065  1880\n",
      "ANNA        F    2604  1880\n",
      "EMMA        F    2003  1880\n",
      "ELIZABETH   F    1939  1880\n",
      "MINNIE      F    1746  1880\n"
     ]
    }
   ],
   "source": [
    "#other way to create upper index values\n",
    "# Create the list of new indexes: new_idx\n",
    "new_idx = [i.upper() for i in df.index]\n",
    "\n",
    "# Assign new_idx to sales.index\n",
    "df.index = new_idx\n",
    "\n",
    "print(df)"
   ]
  },
  {
   "cell_type": "code",
   "execution_count": 81,
   "metadata": {},
   "outputs": [
    {
     "name": "stdout",
     "output_type": "stream",
     "text": [
      "        name sex  births  year\n",
      "0       Mary   F    7065  1880\n",
      "1       Anna   F    2604  1880\n",
      "2       Emma   F    2003  1880\n",
      "3  Elizabeth   F    1939  1880\n",
      "4     Minnie   F    1746  1880\n"
     ]
    }
   ],
   "source": [
    "#Other way to set index\n",
    "# in that way the name column will appear twice, one as an index column and once as a normal column.\n",
    "df3=bnames.head().copy()\n",
    "print(df3)"
   ]
  },
  {
   "cell_type": "code",
   "execution_count": 82,
   "metadata": {},
   "outputs": [
    {
     "name": "stdout",
     "output_type": "stream",
     "text": [
      "                name sex  births  year\n",
      "name                                  \n",
      "Mary            Mary   F    7065  1880\n",
      "Anna            Anna   F    2604  1880\n",
      "Emma            Emma   F    2003  1880\n",
      "Elizabeth  Elizabeth   F    1939  1880\n",
      "Minnie        Minnie   F    1746  1880\n"
     ]
    }
   ],
   "source": [
    "df3.index=df3['name']\n",
    "print(df3)"
   ]
  },
  {
   "cell_type": "code",
   "execution_count": 83,
   "metadata": {},
   "outputs": [
    {
     "name": "stdout",
     "output_type": "stream",
     "text": [
      "          sex  births  year\n",
      "name                       \n",
      "Mary        F    7065  1880\n",
      "Anna        F    2604  1880\n",
      "Emma        F    2003  1880\n",
      "Elizabeth   F    1939  1880\n",
      "Minnie      F    1746  1880\n"
     ]
    }
   ],
   "source": [
    "# we can delete this column\n",
    "del df3['name']\n",
    "print(df3)"
   ]
  },
  {
   "cell_type": "code",
   "execution_count": 84,
   "metadata": {},
   "outputs": [
    {
     "name": "stdout",
     "output_type": "stream",
     "text": [
      "        name sex  births  year\n",
      "0       Mary   F    7065  1880\n",
      "1       Anna   F    2604  1880\n",
      "2       Emma   F    2003  1880\n",
      "3  Elizabeth   F    1939  1880\n",
      "4     Minnie   F    1746  1880\n"
     ]
    }
   ],
   "source": [
    "#Rename the index column\n",
    "df2=bnames.head().copy()\n",
    "print(df2)"
   ]
  },
  {
   "cell_type": "code",
   "execution_count": 85,
   "metadata": {},
   "outputs": [
    {
     "name": "stdout",
     "output_type": "stream",
     "text": [
      "                 name sex  births  year\n",
      "name again                             \n",
      "0                Mary   F    7065  1880\n",
      "1                Anna   F    2604  1880\n",
      "2                Emma   F    2003  1880\n",
      "3           Elizabeth   F    1939  1880\n",
      "4              Minnie   F    1746  1880\n"
     ]
    }
   ],
   "source": [
    "df2.index.name='name again'\n",
    "print(df2)"
   ]
  },
  {
   "cell_type": "code",
   "execution_count": 86,
   "metadata": {},
   "outputs": [
    {
     "name": "stdout",
     "output_type": "stream",
     "text": [
      "own col names       name sex  births  year\n",
      "name again                                \n",
      "0                   Mary   F    7065  1880\n",
      "1                   Anna   F    2604  1880\n",
      "2                   Emma   F    2003  1880\n",
      "3              Elizabeth   F    1939  1880\n",
      "4                 Minnie   F    1746  1880\n"
     ]
    }
   ],
   "source": [
    "df2.columns.name='own col names'\n",
    "print(df2)"
   ]
  },
  {
   "cell_type": "code",
   "execution_count": 87,
   "metadata": {},
   "outputs": [
    {
     "name": "stdout",
     "output_type": "stream",
     "text": [
      "        name sex  births  year\n",
      "0       Mary   F    7065  1880\n",
      "1       Anna   F    2604  1880\n",
      "2       Emma   F    2003  1880\n",
      "3  Elizabeth   F    1939  1880\n",
      "4     Minnie   F    1746  1880\n"
     ]
    }
   ],
   "source": [
    "#Set touple index or multi index\n",
    "df4=bnames.head().copy()\n",
    "print(df4)"
   ]
  },
  {
   "cell_type": "code",
   "execution_count": 88,
   "metadata": {},
   "outputs": [
    {
     "name": "stdout",
     "output_type": "stream",
     "text": [
      "               births  year\n",
      "name      sex              \n",
      "Mary      F      7065  1880\n",
      "Anna      F      2604  1880\n",
      "Emma      F      2003  1880\n",
      "Elizabeth F      1939  1880\n",
      "Minnie    F      1746  1880\n"
     ]
    }
   ],
   "source": [
    "df4=df4.set_index(['name','sex'])\n",
    "print(df4)"
   ]
  },
  {
   "cell_type": "code",
   "execution_count": 139,
   "metadata": {},
   "outputs": [
    {
     "name": "stdout",
     "output_type": "stream",
     "text": [
      "               sex  births\n",
      "name      year            \n",
      "Mary      1880   F    7065\n",
      "Anna      1880   F    2604\n",
      "Emma      1880   F    2003\n",
      "Elizabeth 1880   F    1939\n",
      "Minnie    1880   F    1746\n"
     ]
    }
   ],
   "source": [
    "# Reach multi indexed data\n",
    "df_multi=bnames.head().copy()\n",
    "df_multi=df_multi.set_index(['name','year'])\n",
    "print(df_multi.head())"
   ]
  },
  {
   "cell_type": "code",
   "execution_count": 134,
   "metadata": {},
   "outputs": [
    {
     "name": "stdout",
     "output_type": "stream",
     "text": [
      "sex          F\n",
      "births    7065\n",
      "Name: (Mary, 1880), dtype: object\n"
     ]
    }
   ],
   "source": [
    "df_multi_1= df_multi.loc[('Mary', 1880),:]\n",
    "print(df_multi_1)"
   ]
  },
  {
   "cell_type": "code",
   "execution_count": 141,
   "metadata": {},
   "outputs": [],
   "source": [
    "#df_multi_2= df_multi.loc[(slice(None),1880),:]\n",
    "#print(df_multi_2)"
   ]
  },
  {
   "cell_type": "code",
   "execution_count": 142,
   "metadata": {},
   "outputs": [
    {
     "ename": "NameError",
     "evalue": "name 'idx' is not defined",
     "output_type": "error",
     "traceback": [
      "\u001b[1;31m---------------------------------------------------------------------------\u001b[0m",
      "\u001b[1;31mNameError\u001b[0m                                 Traceback (most recent call last)",
      "\u001b[1;32m<ipython-input-142-e4bdf8897d41>\u001b[0m in \u001b[0;36m<module>\u001b[1;34m()\u001b[0m\n\u001b[1;32m----> 1\u001b[1;33m \u001b[0mdf_multi_3\u001b[0m\u001b[1;33m=\u001b[0m\u001b[0mdf_multi\u001b[0m\u001b[1;33m.\u001b[0m\u001b[0mloc\u001b[0m\u001b[1;33m[\u001b[0m\u001b[0midx\u001b[0m\u001b[1;33m[\u001b[0m\u001b[1;34m'Mary'\u001b[0m\u001b[1;33m,\u001b[0m\u001b[1;33m:\u001b[0m\u001b[1;33m]\u001b[0m\u001b[1;33m,\u001b[0m\u001b[1;33m:\u001b[0m\u001b[1;33m]\u001b[0m\u001b[1;33m\u001b[0m\u001b[0m\n\u001b[0m",
      "\u001b[1;31mNameError\u001b[0m: name 'idx' is not defined"
     ]
    }
   ],
   "source": [
    "df_multi_3=df_multi.loc[idx['Mary',:],:]"
   ]
  },
  {
   "cell_type": "code",
   "execution_count": 91,
   "metadata": {
    "collapsed": true
   },
   "outputs": [],
   "source": [
    "# Querying the DataFrame"
   ]
  },
  {
   "cell_type": "code",
   "execution_count": 92,
   "metadata": {},
   "outputs": [
    {
     "name": "stdout",
     "output_type": "stream",
     "text": [
      "           name sex  births  year\n",
      "214    Isabella   F      50  1880\n",
      "2217   Isabella   F      50  1881\n",
      "4197   Isabella   F      44  1882\n",
      "6306   Isabella   F      54  1883\n",
      "8361   Isabella   F      76  1884\n",
      "10733  Isabella   F      48  1885\n",
      "12965  Isabella   F      80  1886\n",
      "15408  Isabella   F      58  1887\n",
      "17800  Isabella   F      63  1888\n",
      "20415  Isabella   F      80  1889\n",
      "23005  Isabella   F      91  1890\n",
      "25716  Isabella   F      79  1891\n",
      "28382  Isabella   F      88  1892\n",
      "31270  Isabella   F     109  1893\n",
      "34137  Isabella   F      92  1894\n",
      "37096  Isabella   F      90  1895\n",
      "40150  Isabella   F      88  1896\n",
      "43244  Isabella   F      86  1897\n",
      "46294  Isabella   F      86  1898\n",
      "49528  Isabella   F      94  1899\n"
     ]
    }
   ],
   "source": [
    "# select * where name = Isabella\n",
    "df=bnames[bnames['name']=='Isabella']\n",
    "print(df.head(20))"
   ]
  },
  {
   "cell_type": "code",
   "execution_count": 93,
   "metadata": {},
   "outputs": [
    {
     "name": "stdout",
     "output_type": "stream",
     "text": [
      "             name sex  births  year\n",
      "1691897  Isabella   F   19891  2011\n",
      "1715378  Isabella   M      26  2011\n",
      "1725791  Isabella   F   19089  2012\n",
      "1750378  Isabella   M      18  2012\n",
      "1759507  Isabella   F   17617  2013\n",
      "1783755  Isabella   M      18  2013\n",
      "1792760  Isabella   F   17054  2014\n",
      "1816677  Isabella   M      20  2014\n",
      "1825967  Isabella   F   15574  2015\n",
      "1849600  Isabella   M      21  2015\n",
      "1859030  Isabella   F   14722  2016\n",
      "1885053  Isabella   M      11  2016\n"
     ]
    }
   ],
   "source": [
    "# select * where name=Isabella and births>= 2011\n",
    "df=bnames.loc[((bnames['name']=='Isabella') & (bnames['year']>=2011))]\n",
    "print(df)"
   ]
  },
  {
   "cell_type": "code",
   "execution_count": 94,
   "metadata": {},
   "outputs": [
    {
     "name": "stdout",
     "output_type": "stream",
     "text": [
      "628867      Gregory\n",
      "1691897    Isabella\n",
      "Name: name, dtype: object\n"
     ]
    }
   ],
   "source": [
    "# select name where births=19891\n",
    "df=bnames['name'][bnames['births']==19891]\n",
    "print(df)"
   ]
  },
  {
   "cell_type": "code",
   "execution_count": 95,
   "metadata": {},
   "outputs": [
    {
     "name": "stdout",
     "output_type": "stream",
     "text": [
      "        sex       name  births\n",
      "1691896   F     Sophia   21833\n",
      "1691897   F   Isabella   19891\n",
      "1691898   F       Emma   18791\n",
      "1691899   F     Olivia   17315\n",
      "1691900   F        Ava   15491\n",
      "1691901   F      Emily   14247\n",
      "1691902   F    Abigail   13245\n",
      "1691903   F    Madison   12374\n",
      "1691904   F        Mia   11525\n",
      "1691905   F      Chloe   10983\n",
      "1691906   F  Elizabeth   10078\n",
      "1691907   F       Ella    9585\n",
      "1691908   F    Addison    9295\n",
      "1691909   F    Natalie    8633\n",
      "1691910   F       Lily    8176\n",
      "1691911   F      Grace    7629\n",
      "1691912   F   Samantha    7392\n",
      "1691913   F      Avery    7337\n",
      "1691914   F      Sofia    7325\n",
      "1691915   F     Aubrey    7171\n"
     ]
    }
   ],
   "source": [
    "# bnames_top5: A dataframe with top 5 popular male and female names for the decade\n",
    "# select sex, name, births where the 2011 after birth\n",
    "top5 = bnames[bnames['year']>=2011].loc[:,['sex','name','births']]\n",
    "print(top5.head(20))"
   ]
  },
  {
   "cell_type": "code",
   "execution_count": 96,
   "metadata": {},
   "outputs": [
    {
     "name": "stdout",
     "output_type": "stream",
     "text": [
      "        sex      name  births\n",
      "1691896   F    Sophia   21833\n",
      "1691897   F  Isabella   19891\n",
      "1691898   F      Emma   18791\n",
      "1691899   F    Olivia   17315\n",
      "1691900   F       Ava   15491\n",
      "        sex     name  births\n",
      "1711450   M    Jacob   20356\n",
      "1711451   M    Mason   19503\n",
      "1711452   M  William   17331\n",
      "1711453   M   Jayden   16979\n",
      "1711454   M     Noah   16848\n"
     ]
    }
   ],
   "source": [
    "# create two distinct group \n",
    "f=top5[top5['sex']=='F']\n",
    "m=top5[top5['sex']=='M']\n",
    "print(f.head(5))\n",
    "print(m.head(5))"
   ]
  },
  {
   "cell_type": "code",
   "execution_count": 97,
   "metadata": {},
   "outputs": [
    {
     "name": "stdout",
     "output_type": "stream",
     "text": [
      "               births\n",
      "name      sex        \n",
      "Aabha     F        35\n",
      "Aabriella F        21\n",
      "Aada      F         5\n",
      "Aadhira   F        51\n",
      "Aadhvika  F         9\n",
      "Aadhya    F      1132\n",
      "Aadi      F        11\n",
      "Aadison   F         5\n",
      "Aaditri   F        32\n",
      "Aadrika   F        19\n",
      "Aadriti   F         5\n",
      "Aadvi     F         7\n",
      "Aadvika   F        33\n",
      "Aadya     F       728\n",
      "Aafia     F         6\n",
      "Aafiya    F         6\n",
      "Aafiyah   F         5\n",
      "Aagna     F         7\n",
      "Aahana    F       278\n",
      "Aahna     F        58\n"
     ]
    }
   ],
   "source": [
    "# aggregate the birth by name\n",
    "f_agg=f.groupby(['name','sex']).agg('sum')#.sort('births',ascending=False)\n",
    "m_agg=m.groupby(['name','sex']).agg('sum')#.sort('births',ascending=False)\n",
    "print(f_agg.head(20))"
   ]
  },
  {
   "cell_type": "code",
   "execution_count": 98,
   "metadata": {},
   "outputs": [
    {
     "name": "stdout",
     "output_type": "stream",
     "text": [
      "           births\n",
      "name  sex        \n",
      "Aaban M        76\n",
      "Aabid M         5\n",
      "Aabir M         5\n",
      "Aadam M       103\n",
      "Aadan M        53\n"
     ]
    }
   ],
   "source": [
    "# select the top 5 in each group\n",
    "f_agg_top5=f_agg.head(5).copy()\n",
    "m_agg_top5=m_agg.head(5).copy()\n",
    "print(m_agg_top5)"
   ]
  },
  {
   "cell_type": "code",
   "execution_count": 99,
   "metadata": {},
   "outputs": [
    {
     "name": "stdout",
     "output_type": "stream",
     "text": [
      "               births\n",
      "name      sex        \n",
      "Aabha     F        35\n",
      "Aabriella F        21\n",
      "Aada      F         5\n",
      "Aadhira   F        51\n",
      "Aadhvika  F         9\n",
      "Aaban     M        76\n",
      "Aabid     M         5\n",
      "Aabir     M         5\n",
      "Aadam     M       103\n",
      "Aadan     M        53\n"
     ]
    }
   ],
   "source": [
    "# concat the groups\n",
    "frames=[f_agg_top5, m_agg_top5]\n",
    "bnames_top5=pd.concat(frames)\n",
    "print(bnames_top5)"
   ]
  },
  {
   "cell_type": "code",
   "execution_count": 100,
   "metadata": {},
   "outputs": [
    {
     "name": "stdout",
     "output_type": "stream",
     "text": [
      "name sex  births\n",
      "    Aabha   F      35\n",
      "Aabriella   F      21\n",
      "     Aada   F       5\n",
      "  Aadhira   F      51\n",
      " Aadhvika   F       9\n",
      "    Aaban   M      76\n",
      "    Aabid   M       5\n",
      "    Aabir   M       5\n",
      "    Aadam   M     103\n",
      "    Aadan   M      53\n"
     ]
    }
   ],
   "source": [
    "#print(bnames_top5)\n",
    "#bnames_top5=bnames_top5.loc[:,['sex','name','births']]\n",
    "bnames_top5 = bnames_top5.reset_index()\n",
    "print(bnames_top5.loc[:].to_string(index=False))"
   ]
  },
  {
   "cell_type": "code",
   "execution_count": 101,
   "metadata": {
    "collapsed": true
   },
   "outputs": [],
   "source": [
    "# calculation like sum, avg, percentage\n",
    "# Percentage 1 = value 1 / Sum (eg: 50/90 on hungary)\n",
    "# Percentage 2 = value 1 / sum of column (eg: 50/260)\n",
    "# Percentage 3 = value 1 / total sum (eg: 50/400)"
   ]
  },
  {
   "cell_type": "code",
   "execution_count": 102,
   "metadata": {},
   "outputs": [
    {
     "name": "stdout",
     "output_type": "stream",
     "text": [
      "    ID  Country  Value 1  Value 2  Sum  Percentage 1  Percentage 2  \\\n",
      "0  1.0  Hungary       50       40   90      0.555556      0.192308   \n",
      "1  2.0  Germany      100       30  130      0.769231      0.384615   \n",
      "2  3.0  England       40       20   60      0.666667      0.153846   \n",
      "3  4.0      USA       70       50  120      0.583333      0.269231   \n",
      "4  NaN      NaN      260      140  400           NaN           NaN   \n",
      "\n",
      "   Percentage 3  \n",
      "0         0.125  \n",
      "1         0.250  \n",
      "2         0.100  \n",
      "3         0.175  \n",
      "4           NaN  \n"
     ]
    }
   ],
   "source": [
    "xlsFile='ExcelToLoad.xlsx'\n",
    "xl = pd.ExcelFile(xlsFile)\n",
    "# calculated fields: sum, percentage, percentage 2, percentage 3\n",
    "df_result = xl.parse('data final')\n",
    "print(df_result)"
   ]
  },
  {
   "cell_type": "code",
   "execution_count": 103,
   "metadata": {},
   "outputs": [
    {
     "name": "stdout",
     "output_type": "stream",
     "text": [
      "   ID  Country  Value 1  Value 2\n",
      "0   1  Hungary       50       40\n",
      "1   2  Germany      100       30\n",
      "2   3  England       40       20\n",
      "3   4      USA       70       50\n"
     ]
    }
   ],
   "source": [
    "df = xl.parse('data')\n",
    "print(df)"
   ]
  },
  {
   "cell_type": "code",
   "execution_count": 104,
   "metadata": {},
   "outputs": [
    {
     "name": "stdout",
     "output_type": "stream",
     "text": [
      "   Country variable  value\n",
      "0  Hungary  Value 1     50\n",
      "1  Germany  Value 1    100\n",
      "2  England  Value 1     40\n",
      "3      USA  Value 1     70\n",
      "4  Hungary  Value 2     40\n",
      "5  Germany  Value 2     30\n",
      "6  England  Value 2     20\n",
      "7      USA  Value 2     50\n"
     ]
    }
   ],
   "source": [
    "# Melt the data from column base into one table base\n",
    "# The id_vars represent the columns of the data you do not want to melt\n",
    "# value_vars represent the columns you do wish to melt into rows\n",
    "dfmelt=pd.melt(frame=df, id_vars='Country', value_vars=['Value 1', 'Value 2'])\n",
    "print(dfmelt)"
   ]
  },
  {
   "cell_type": "code",
   "execution_count": 105,
   "metadata": {},
   "outputs": [
    {
     "name": "stdout",
     "output_type": "stream",
     "text": [
      "  country new variable new  value new\n",
      "0     Hungary      Value 1         50\n",
      "1     Germany      Value 1        100\n",
      "2     England      Value 1         40\n",
      "3         USA      Value 1         70\n",
      "4     Hungary      Value 2         40\n",
      "5     Germany      Value 2         30\n",
      "6     England      Value 2         20\n",
      "7         USA      Value 2         50\n"
     ]
    }
   ],
   "source": [
    "# Rename the columns\n",
    "dfmelt.columns = ['country new', 'variable new', 'value new']\n",
    "print(dfmelt)"
   ]
  },
  {
   "cell_type": "code",
   "execution_count": 106,
   "metadata": {},
   "outputs": [
    {
     "name": "stdout",
     "output_type": "stream",
     "text": [
      "   Country   Values  measures\n",
      "0  Hungary  Value 1        50\n",
      "1  Germany  Value 1       100\n",
      "2  England  Value 1        40\n",
      "3      USA  Value 1        70\n",
      "4  Hungary  Value 2        40\n",
      "5  Germany  Value 2        30\n",
      "6  England  Value 2        20\n",
      "7      USA  Value 2        50\n"
     ]
    }
   ],
   "source": [
    "#re-name the columns in the melt\n",
    "dfmelt=pd.melt(frame=df, id_vars='Country', value_vars=['Value 1', 'Value 2'], var_name='Values', value_name='measures')\n",
    "print(dfmelt)"
   ]
  },
  {
   "cell_type": "code",
   "execution_count": 107,
   "metadata": {},
   "outputs": [
    {
     "name": "stdout",
     "output_type": "stream",
     "text": [
      "Values  Country  Value 1  Value 2\n",
      "0       England       40       20\n",
      "1       Germany      100       30\n",
      "2       Hungary       50       40\n",
      "3           USA       70       50\n"
     ]
    }
   ],
   "source": [
    "# Pivoting data opposite of melting\n",
    "dfpivot=dfmelt.pivot_table(index='Country', columns='Values', values='measures')\n",
    "dfpivot=dfpivot.reset_index()\n",
    "print(dfpivot.head())"
   ]
  },
  {
   "cell_type": "code",
   "execution_count": 108,
   "metadata": {},
   "outputs": [
    {
     "name": "stdout",
     "output_type": "stream",
     "text": [
      "260\n"
     ]
    }
   ],
   "source": [
    "# Sum of Value 1 sum, mean, min, max are the same\n",
    "sum=df['Value 1'].sum()\n",
    "print(sum)"
   ]
  },
  {
   "cell_type": "code",
   "execution_count": 109,
   "metadata": {},
   "outputs": [
    {
     "name": "stdout",
     "output_type": "stream",
     "text": [
      "0     90\n",
      "1    130\n",
      "2     60\n",
      "3    120\n",
      "dtype: int64\n"
     ]
    }
   ],
   "source": [
    "#Sum of values per country\n",
    "sum=df['Value 1']+df['Value 2']\n",
    "print(sum)"
   ]
  },
  {
   "cell_type": "code",
   "execution_count": 110,
   "metadata": {},
   "outputs": [
    {
     "name": "stdout",
     "output_type": "stream",
     "text": [
      "90\n"
     ]
    }
   ],
   "source": [
    "#Sum of values per country to Hungary\n",
    "sum=df['Value 1']+df['Value 2']\n",
    "print(sum[0])"
   ]
  },
  {
   "cell_type": "code",
   "execution_count": 111,
   "metadata": {},
   "outputs": [
    {
     "name": "stdout",
     "output_type": "stream",
     "text": [
      "400\n"
     ]
    }
   ],
   "source": [
    "#Sum of values per country\n",
    "sum=(df['Value 1']+df['Value 2']).sum()\n",
    "print(sum)"
   ]
  },
  {
   "cell_type": "code",
   "execution_count": 112,
   "metadata": {},
   "outputs": [
    {
     "name": "stdout",
     "output_type": "stream",
     "text": [
      "0    0.555556\n",
      "1    0.769231\n",
      "2    0.666667\n",
      "3    0.583333\n",
      "dtype: float64\n"
     ]
    }
   ],
   "source": [
    "# Percentage 1\n",
    "perc1=df['Value 1'] / (df['Value 1']+df['Value 2'])\n",
    "print(perc1)"
   ]
  },
  {
   "cell_type": "code",
   "execution_count": 113,
   "metadata": {},
   "outputs": [
    {
     "name": "stdout",
     "output_type": "stream",
     "text": [
      "0    0.192308\n",
      "1    0.384615\n",
      "2    0.153846\n",
      "3    0.269231\n",
      "Name: Value 1, dtype: float64\n"
     ]
    }
   ],
   "source": [
    "# Percentage 2\n",
    "perc2=df['Value 1'] / df['Value 1'].sum()\n",
    "print(perc2)"
   ]
  },
  {
   "cell_type": "code",
   "execution_count": 114,
   "metadata": {},
   "outputs": [
    {
     "name": "stdout",
     "output_type": "stream",
     "text": [
      "0    0.125\n",
      "1    0.250\n",
      "2    0.100\n",
      "3    0.175\n",
      "Name: Value 1, dtype: float64\n"
     ]
    }
   ],
   "source": [
    "# Percentage 3\n",
    "perc3=df['Value 1'] / (df['Value 1']+df['Value 2']).sum()\n",
    "print(perc3)"
   ]
  },
  {
   "cell_type": "code",
   "execution_count": 115,
   "metadata": {
    "collapsed": true
   },
   "outputs": [],
   "source": [
    "# using function on the dataframe"
   ]
  },
  {
   "cell_type": "code",
   "execution_count": 116,
   "metadata": {
    "collapsed": true
   },
   "outputs": [],
   "source": [
    "# def my_function(param1, param2)\n",
    "# ....\n",
    "# df['col name]=df.apply(my_function, axis=1)\n",
    "# axis = 1 column\n",
    "# axis = 0 row"
   ]
  },
  {
   "cell_type": "code",
   "execution_count": 117,
   "metadata": {},
   "outputs": [
    {
     "name": "stdout",
     "output_type": "stream",
     "text": [
      "   A   B     C   D\n",
      "0  1  10  15.0   0\n",
      "1  2  20   NaN   0\n",
      "2  3  30  35.0  37\n",
      "3  4  40  45.0  47\n",
      "4  5  50  55.0   0\n"
     ]
    }
   ],
   "source": [
    "print(df_numbers.head())"
   ]
  },
  {
   "cell_type": "code",
   "execution_count": 118,
   "metadata": {},
   "outputs": [
    {
     "name": "stdout",
     "output_type": "stream",
     "text": [
      "   A   B     C   D\n",
      "0  0   5   7.0   0\n",
      "1  1  10   NaN   0\n",
      "2  1  15  17.0  18\n",
      "3  2  20  22.0  23\n",
      "4  2  25  27.0   0\n"
     ]
    }
   ],
   "source": [
    "print(df_numbers.apply(lambda n: n//2))"
   ]
  },
  {
   "cell_type": "code",
   "execution_count": 119,
   "metadata": {},
   "outputs": [
    {
     "name": "stdout",
     "output_type": "stream",
     "text": [
      "     A     B     C     D\n",
      "0  0.0   5.0   7.0  -0.0\n",
      "1  1.0  10.0   NaN  -0.0\n",
      "2  1.0  15.0  17.0  18.0\n",
      "3  2.0  20.0  22.0  23.0\n",
      "4  2.0  25.0  27.0  -0.0\n"
     ]
    },
    {
     "name": "stderr",
     "output_type": "stream",
     "text": [
      "C:\\ProgramData\\Anaconda3\\lib\\site-packages\\ipykernel_launcher.py:1: RuntimeWarning: invalid value encountered in floor_divide\n",
      "  \"\"\"Entry point for launching an IPython kernel.\n"
     ]
    }
   ],
   "source": [
    "print(np.floor_divide(df_numbers, 2))"
   ]
  },
  {
   "cell_type": "code",
   "execution_count": 120,
   "metadata": {},
   "outputs": [
    {
     "name": "stdout",
     "output_type": "stream",
     "text": [
      "   A   B     C   D\n",
      "0  0   5   7.0   0\n",
      "1  1  10   NaN   0\n",
      "2  1  15  17.0  18\n",
      "3  2  20  22.0  23\n",
      "4  2  25  27.0   0\n"
     ]
    }
   ],
   "source": [
    "def dozens(n):\n",
    "    return n//2\n",
    "\n",
    "print(df_numbers.apply(dozens))"
   ]
  },
  {
   "cell_type": "code",
   "execution_count": 121,
   "metadata": {},
   "outputs": [
    {
     "name": "stdout",
     "output_type": "stream",
     "text": [
      "   A   B     C   D   E\n",
      "0  1  10  15.0   0   5\n",
      "1  2  20   NaN   0  10\n",
      "2  3  30  35.0  37  15\n",
      "3  4  40  45.0  47  20\n",
      "4  5  50  55.0   0  25\n"
     ]
    }
   ],
   "source": [
    "df_numbers['E']= df_numbers.B.floordiv(2)\n",
    "print(df_numbers.head())"
   ]
  },
  {
   "cell_type": "code",
   "execution_count": 122,
   "metadata": {
    "collapsed": true
   },
   "outputs": [],
   "source": [
    "#Converting types"
   ]
  },
  {
   "cell_type": "code",
   "execution_count": 123,
   "metadata": {
    "collapsed": true
   },
   "outputs": [],
   "source": [
    "# df.dtypes\n",
    "# df['my col']=df['my col'].to_numeric()\n",
    "# df.mycol = pd.to_numeric(df.mycol)\n",
    "# df['my col']=df['my col'].astype(str)"
   ]
  },
  {
   "cell_type": "code",
   "execution_count": 124,
   "metadata": {
    "collapsed": true
   },
   "outputs": [],
   "source": [
    "# Check the type are correct or not"
   ]
  },
  {
   "cell_type": "code",
   "execution_count": 125,
   "metadata": {
    "collapsed": true
   },
   "outputs": [],
   "source": [
    "#assert df.mycol.dtypes == np.object\n",
    "#assert df.mycol.dtypes == np.int64\n",
    "#assert df.mycol.dtypes == np.float"
   ]
  },
  {
   "cell_type": "code",
   "execution_count": 126,
   "metadata": {
    "collapsed": true
   },
   "outputs": [],
   "source": [
    "# attributes and methods list\n",
    "# https://pandas.pydata.org/pandas-docs/stable/generated/pandas.DataFrame.html"
   ]
  }
 ],
 "metadata": {
  "kernelspec": {
   "display_name": "Python 3",
   "language": "python",
   "name": "python3"
  },
  "language_info": {
   "codemirror_mode": {
    "name": "ipython",
    "version": 3
   },
   "file_extension": ".py",
   "mimetype": "text/x-python",
   "name": "python",
   "nbconvert_exporter": "python",
   "pygments_lexer": "ipython3",
   "version": "3.6.1"
  }
 },
 "nbformat": 4,
 "nbformat_minor": 2
}
